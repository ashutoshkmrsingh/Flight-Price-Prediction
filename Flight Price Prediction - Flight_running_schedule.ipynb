{
 "cells": [
  {
   "cell_type": "markdown",
   "metadata": {},
   "source": [
    "# Improved Flight Price Prediction <i> ~Flight_running_schedule</i>"
   ]
  },
  {
   "cell_type": "code",
   "execution_count": 3,
   "metadata": {},
   "outputs": [],
   "source": [
    "# importing required libraries\n",
    "\n",
    "import pandas as pd"
   ]
  },
  {
   "cell_type": "code",
   "execution_count": 4,
   "metadata": {
    "scrolled": true
   },
   "outputs": [
    {
     "data": {
      "text/html": [
       "<div>\n",
       "<style scoped>\n",
       "    .dataframe tbody tr th:only-of-type {\n",
       "        vertical-align: middle;\n",
       "    }\n",
       "\n",
       "    .dataframe tbody tr th {\n",
       "        vertical-align: top;\n",
       "    }\n",
       "\n",
       "    .dataframe thead th {\n",
       "        text-align: right;\n",
       "    }\n",
       "</style>\n",
       "<table border=\"1\" class=\"dataframe\">\n",
       "  <thead>\n",
       "    <tr style=\"text-align: right;\">\n",
       "      <th></th>\n",
       "      <th>Unnamed: 0</th>\n",
       "      <th>Name</th>\n",
       "      <th>From</th>\n",
       "      <th>To</th>\n",
       "      <th>Stops</th>\n",
       "      <th>Extra Services</th>\n",
       "      <th>Price</th>\n",
       "      <th>Encoded Route</th>\n",
       "      <th>Duration</th>\n",
       "      <th>Month</th>\n",
       "      <th>Day</th>\n",
       "    </tr>\n",
       "  </thead>\n",
       "  <tbody>\n",
       "    <tr>\n",
       "      <th>0</th>\n",
       "      <td>0</td>\n",
       "      <td>1</td>\n",
       "      <td>0</td>\n",
       "      <td>5</td>\n",
       "      <td>1</td>\n",
       "      <td>8</td>\n",
       "      <td>17135</td>\n",
       "      <td>3</td>\n",
       "      <td>2345</td>\n",
       "      <td>3</td>\n",
       "      <td>1</td>\n",
       "    </tr>\n",
       "    <tr>\n",
       "      <th>1</th>\n",
       "      <td>1</td>\n",
       "      <td>10</td>\n",
       "      <td>0</td>\n",
       "      <td>5</td>\n",
       "      <td>4</td>\n",
       "      <td>8</td>\n",
       "      <td>21520</td>\n",
       "      <td>18</td>\n",
       "      <td>160</td>\n",
       "      <td>3</td>\n",
       "      <td>1</td>\n",
       "    </tr>\n",
       "    <tr>\n",
       "      <th>2</th>\n",
       "      <td>2</td>\n",
       "      <td>4</td>\n",
       "      <td>0</td>\n",
       "      <td>5</td>\n",
       "      <td>0</td>\n",
       "      <td>8</td>\n",
       "      <td>26890</td>\n",
       "      <td>5</td>\n",
       "      <td>435</td>\n",
       "      <td>3</td>\n",
       "      <td>1</td>\n",
       "    </tr>\n",
       "    <tr>\n",
       "      <th>3</th>\n",
       "      <td>3</td>\n",
       "      <td>1</td>\n",
       "      <td>0</td>\n",
       "      <td>5</td>\n",
       "      <td>0</td>\n",
       "      <td>8</td>\n",
       "      <td>23677</td>\n",
       "      <td>5</td>\n",
       "      <td>330</td>\n",
       "      <td>3</td>\n",
       "      <td>1</td>\n",
       "    </tr>\n",
       "    <tr>\n",
       "      <th>4</th>\n",
       "      <td>4</td>\n",
       "      <td>3</td>\n",
       "      <td>0</td>\n",
       "      <td>5</td>\n",
       "      <td>4</td>\n",
       "      <td>8</td>\n",
       "      <td>11934</td>\n",
       "      <td>18</td>\n",
       "      <td>170</td>\n",
       "      <td>3</td>\n",
       "      <td>1</td>\n",
       "    </tr>\n",
       "  </tbody>\n",
       "</table>\n",
       "</div>"
      ],
      "text/plain": [
       "   Unnamed: 0  Name  From  To  Stops  Extra Services  Price  Encoded Route  \\\n",
       "0           0     1     0   5      1               8  17135              3   \n",
       "1           1    10     0   5      4               8  21520             18   \n",
       "2           2     4     0   5      0               8  26890              5   \n",
       "3           3     1     0   5      0               8  23677              5   \n",
       "4           4     3     0   5      4               8  11934             18   \n",
       "\n",
       "   Duration  Month  Day  \n",
       "0      2345      3    1  \n",
       "1       160      3    1  \n",
       "2       435      3    1  \n",
       "3       330      3    1  \n",
       "4       170      3    1  "
      ]
     },
     "execution_count": 4,
     "metadata": {},
     "output_type": "execute_result"
    }
   ],
   "source": [
    "df = pd.read_excel(\"Again_Preprocessed_Flight_data.xlsx\")\n",
    "df.head()"
   ]
  },
  {
   "cell_type": "code",
   "execution_count": 5,
   "metadata": {},
   "outputs": [
    {
     "data": {
      "text/html": [
       "<div>\n",
       "<style scoped>\n",
       "    .dataframe tbody tr th:only-of-type {\n",
       "        vertical-align: middle;\n",
       "    }\n",
       "\n",
       "    .dataframe tbody tr th {\n",
       "        vertical-align: top;\n",
       "    }\n",
       "\n",
       "    .dataframe thead th {\n",
       "        text-align: right;\n",
       "    }\n",
       "</style>\n",
       "<table border=\"1\" class=\"dataframe\">\n",
       "  <thead>\n",
       "    <tr style=\"text-align: right;\">\n",
       "      <th></th>\n",
       "      <th>Name</th>\n",
       "      <th>From</th>\n",
       "      <th>To</th>\n",
       "      <th>Stops</th>\n",
       "      <th>Extra Services</th>\n",
       "      <th>Price</th>\n",
       "      <th>Encoded Route</th>\n",
       "      <th>Duration</th>\n",
       "      <th>Month</th>\n",
       "      <th>Day</th>\n",
       "    </tr>\n",
       "  </thead>\n",
       "  <tbody>\n",
       "    <tr>\n",
       "      <th>0</th>\n",
       "      <td>1</td>\n",
       "      <td>0</td>\n",
       "      <td>5</td>\n",
       "      <td>1</td>\n",
       "      <td>8</td>\n",
       "      <td>17135</td>\n",
       "      <td>3</td>\n",
       "      <td>2345</td>\n",
       "      <td>3</td>\n",
       "      <td>1</td>\n",
       "    </tr>\n",
       "    <tr>\n",
       "      <th>1</th>\n",
       "      <td>10</td>\n",
       "      <td>0</td>\n",
       "      <td>5</td>\n",
       "      <td>4</td>\n",
       "      <td>8</td>\n",
       "      <td>21520</td>\n",
       "      <td>18</td>\n",
       "      <td>160</td>\n",
       "      <td>3</td>\n",
       "      <td>1</td>\n",
       "    </tr>\n",
       "    <tr>\n",
       "      <th>2</th>\n",
       "      <td>4</td>\n",
       "      <td>0</td>\n",
       "      <td>5</td>\n",
       "      <td>0</td>\n",
       "      <td>8</td>\n",
       "      <td>26890</td>\n",
       "      <td>5</td>\n",
       "      <td>435</td>\n",
       "      <td>3</td>\n",
       "      <td>1</td>\n",
       "    </tr>\n",
       "    <tr>\n",
       "      <th>3</th>\n",
       "      <td>1</td>\n",
       "      <td>0</td>\n",
       "      <td>5</td>\n",
       "      <td>0</td>\n",
       "      <td>8</td>\n",
       "      <td>23677</td>\n",
       "      <td>5</td>\n",
       "      <td>330</td>\n",
       "      <td>3</td>\n",
       "      <td>1</td>\n",
       "    </tr>\n",
       "    <tr>\n",
       "      <th>4</th>\n",
       "      <td>3</td>\n",
       "      <td>0</td>\n",
       "      <td>5</td>\n",
       "      <td>4</td>\n",
       "      <td>8</td>\n",
       "      <td>11934</td>\n",
       "      <td>18</td>\n",
       "      <td>170</td>\n",
       "      <td>3</td>\n",
       "      <td>1</td>\n",
       "    </tr>\n",
       "  </tbody>\n",
       "</table>\n",
       "</div>"
      ],
      "text/plain": [
       "   Name  From  To  Stops  Extra Services  Price  Encoded Route  Duration  \\\n",
       "0     1     0   5      1               8  17135              3      2345   \n",
       "1    10     0   5      4               8  21520             18       160   \n",
       "2     4     0   5      0               8  26890              5       435   \n",
       "3     1     0   5      0               8  23677              5       330   \n",
       "4     3     0   5      4               8  11934             18       170   \n",
       "\n",
       "   Month  Day  \n",
       "0      3    1  \n",
       "1      3    1  \n",
       "2      3    1  \n",
       "3      3    1  \n",
       "4      3    1  "
      ]
     },
     "execution_count": 5,
     "metadata": {},
     "output_type": "execute_result"
    }
   ],
   "source": [
    "# dropping Unnamed Column\n",
    "\n",
    "df.rename({\"Unnamed: 0\":\"False\"}, axis=1, inplace=True)\n",
    "df.drop([\"False\"], axis=1, inplace=True)\n",
    "\n",
    "df.head()"
   ]
  },
  {
   "cell_type": "code",
   "execution_count": 6,
   "metadata": {},
   "outputs": [
    {
     "data": {
      "text/plain": [
       "2724"
      ]
     },
     "execution_count": 6,
     "metadata": {},
     "output_type": "execute_result"
    }
   ],
   "source": [
    "# Number of flight in Month 3\n",
    "\n",
    "len(df.loc[df.Month == 3])"
   ]
  },
  {
   "cell_type": "code",
   "execution_count": 7,
   "metadata": {},
   "outputs": [
    {
     "data": {
      "text/plain": [
       "1079"
      ]
     },
     "execution_count": 7,
     "metadata": {},
     "output_type": "execute_result"
    }
   ],
   "source": [
    "# Number of flight in Month 4\n",
    "\n",
    "len(df.loc[df.Month == 4])"
   ]
  },
  {
   "cell_type": "code",
   "execution_count": 8,
   "metadata": {},
   "outputs": [
    {
     "data": {
      "text/plain": [
       "3465"
      ]
     },
     "execution_count": 8,
     "metadata": {},
     "output_type": "execute_result"
    }
   ],
   "source": [
    "# Number of flight in Month 5\n",
    "\n",
    "len(df.loc[df.Month == 5])"
   ]
  },
  {
   "cell_type": "code",
   "execution_count": 9,
   "metadata": {},
   "outputs": [
    {
     "data": {
      "text/plain": [
       "3414"
      ]
     },
     "execution_count": 9,
     "metadata": {},
     "output_type": "execute_result"
    }
   ],
   "source": [
    "# Number of flight in Month 6\n",
    "\n",
    "len(df.loc[df.Month == 6])"
   ]
  },
  {
   "cell_type": "code",
   "execution_count": 10,
   "metadata": {},
   "outputs": [
    {
     "data": {
      "text/plain": [
       "0"
      ]
     },
     "execution_count": 10,
     "metadata": {},
     "output_type": "execute_result"
    }
   ],
   "source": [
    "# Number of flight in Month 7\n",
    "\n",
    "len(df.loc[df.Month == 7])"
   ]
  },
  {
   "cell_type": "code",
   "execution_count": 11,
   "metadata": {},
   "outputs": [
    {
     "data": {
      "text/plain": [
       "277"
      ]
     },
     "execution_count": 11,
     "metadata": {},
     "output_type": "execute_result"
    }
   ],
   "source": [
    "# Number of flight in Month 5 and Day 1\n",
    "\n",
    "len(df.loc[(df.Month == 5) & (df.Day == 1)])"
   ]
  },
  {
   "cell_type": "code",
   "execution_count": 12,
   "metadata": {},
   "outputs": [
    {
     "data": {
      "text/plain": [
       "342"
      ]
     },
     "execution_count": 12,
     "metadata": {},
     "output_type": "execute_result"
    }
   ],
   "source": [
    "# Number of flight in Month 6 and Day 1\n",
    "\n",
    "len(df.loc[(df.Month == 6) & (df.Day == 1)])"
   ]
  },
  {
   "cell_type": "code",
   "execution_count": 13,
   "metadata": {},
   "outputs": [
    {
     "data": {
      "text/plain": [
       "0"
      ]
     },
     "execution_count": 13,
     "metadata": {},
     "output_type": "execute_result"
    }
   ],
   "source": [
    "# Number of flight in Month 5 and Day 2\n",
    "\n",
    "len(df.loc[(df.Month == 5) & (df.Day == 2)])"
   ]
  },
  {
   "cell_type": "code",
   "execution_count": 14,
   "metadata": {},
   "outputs": [
    {
     "data": {
      "text/plain": [
       "0"
      ]
     },
     "execution_count": 14,
     "metadata": {},
     "output_type": "execute_result"
    }
   ],
   "source": [
    "# Number of flight in Month 6 and Day 2\n",
    "\n",
    "len(df.loc[(df.Month == 6) & (df.Day == 2)])"
   ]
  },
  {
   "cell_type": "code",
   "execution_count": 15,
   "metadata": {},
   "outputs": [
    {
     "data": {
      "text/plain": [
       "(0, 0)"
      ]
     },
     "execution_count": 15,
     "metadata": {},
     "output_type": "execute_result"
    }
   ],
   "source": [
    "len(df.loc[(df.Month == 5) & (df.Day == 2)]), len(df.loc[(df.Month == 6) & (df.Day == 2)])"
   ]
  },
  {
   "cell_type": "code",
   "execution_count": 16,
   "metadata": {},
   "outputs": [
    {
     "data": {
      "text/plain": [
       "(90, 333)"
      ]
     },
     "execution_count": 16,
     "metadata": {},
     "output_type": "execute_result"
    }
   ],
   "source": [
    "len(df.loc[(df.Month == 5) & (df.Day == 3)]), len(df.loc[(df.Month == 6) & (df.Day == 3)])"
   ]
  },
  {
   "cell_type": "code",
   "execution_count": 17,
   "metadata": {},
   "outputs": [
    {
     "data": {
      "text/plain": [
       "(0, 0)"
      ]
     },
     "execution_count": 17,
     "metadata": {},
     "output_type": "execute_result"
    }
   ],
   "source": [
    "len(df.loc[(df.Month == 5) & (df.Day == 4)]), len(df.loc[(df.Month == 6) & (df.Day == 4)])"
   ]
  },
  {
   "cell_type": "code",
   "execution_count": 18,
   "metadata": {},
   "outputs": [
    {
     "data": {
      "text/plain": [
       "(0, 0)"
      ]
     },
     "execution_count": 18,
     "metadata": {},
     "output_type": "execute_result"
    }
   ],
   "source": [
    "len(df.loc[(df.Month == 5) & (df.Day == 5)]), len(df.loc[(df.Month == 6) & (df.Day == 5)])"
   ]
  },
  {
   "cell_type": "code",
   "execution_count": 19,
   "metadata": {},
   "outputs": [
    {
     "data": {
      "text/plain": [
       "(281, 503)"
      ]
     },
     "execution_count": 19,
     "metadata": {},
     "output_type": "execute_result"
    }
   ],
   "source": [
    "len(df.loc[(df.Month == 5) & (df.Day == 6)]), len(df.loc[(df.Month == 6) & (df.Day == 6)])"
   ]
  },
  {
   "cell_type": "code",
   "execution_count": 20,
   "metadata": {},
   "outputs": [
    {
     "data": {
      "text/plain": [
       "(0, 0)"
      ]
     },
     "execution_count": 20,
     "metadata": {},
     "output_type": "execute_result"
    }
   ],
   "source": [
    "len(df.loc[(df.Month == 5) & (df.Day == 7)]), len(df.loc[(df.Month == 6) & (df.Day == 7)])"
   ]
  },
  {
   "cell_type": "code",
   "execution_count": 224,
   "metadata": {
    "scrolled": true
   },
   "outputs": [
    {
     "name": "stdout",
     "output_type": "stream",
     "text": [
      "Date : 1 - 199 | Date : 1 - 257 | Date : 1 - 277 | Date : 1 - 342 | \n",
      "\n",
      "Date : 2 - 0 | Date : 2 - 0 | Date : 2 - 0 | Date : 2 - 0 | \n",
      "\n",
      "Date : 3 - 315 | Date : 3 - 110 | Date : 3 - 90 | Date : 3 - 333 | \n",
      "\n",
      "Date : 4 - 0 | Date : 4 - 0 | Date : 4 - 0 | Date : 4 - 0 | \n",
      "\n",
      "Date : 5 - 0 | Date : 5 - 0 | Date : 5 - 0 | Date : 5 - 0 | \n",
      "\n",
      "Date : 6 - 403 | Date : 6 - 100 | Date : 6 - 281 | Date : 6 - 503 | \n",
      "\n",
      "Date : 7 - 0 | Date : 7 - 0 | Date : 7 - 0 | Date : 7 - 0 | \n",
      "\n",
      "Date : 8 - 0 | Date : 8 - 0 | Date : 8 - 0 | Date : 8 - 0 | \n",
      "\n",
      "Date : 9 - 302 | Date : 9 - 125 | Date : 9 - 484 | Date : 9 - 495 | \n",
      "\n",
      "Date : 10 - 0 | Date : 10 - 0 | Date : 10 - 0 | Date : 10 - 0 | \n",
      "\n",
      "Date : 11 - 0 | Date : 11 - 0 | Date : 11 - 0 | Date : 11 - 0 | \n",
      "\n",
      "Date : 12 - 142 | Date : 12 - 63 | Date : 12 - 259 | Date : 12 - 493 | \n",
      "\n",
      "Date : 13 - 0 | Date : 13 - 0 | Date : 13 - 0 | Date : 13 - 0 | \n",
      "\n",
      "Date : 14 - 0 | Date : 14 - 0 | Date : 14 - 0 | Date : 14 - 0 | \n",
      "\n",
      "Date : 15 - 162 | Date : 15 - 89 | Date : 15 - 405 | Date : 15 - 328 | \n",
      "\n",
      "Date : 16 - 0 | Date : 16 - 0 | Date : 16 - 0 | Date : 16 - 0 | \n",
      "\n",
      "Date : 17 - 0 | Date : 17 - 0 | Date : 17 - 0 | Date : 17 - 0 | \n",
      "\n",
      "Date : 18 - 156 | Date : 18 - 67 | Date : 18 - 504 | Date : 18 - 105 | \n",
      "\n",
      "Date : 19 - 0 | Date : 19 - 0 | Date : 19 - 0 | Date : 19 - 0 | \n",
      "\n",
      "Date : 20 - 0 | Date : 20 - 0 | Date : 20 - 0 | Date : 20 - 0 | \n",
      "\n",
      "Date : 21 - 423 | Date : 21 - 82 | Date : 21 - 497 | Date : 21 - 109 | \n",
      "\n",
      "Date : 22 - 0 | Date : 22 - 0 | Date : 22 - 0 | Date : 22 - 0 | \n",
      "\n",
      "Date : 23 - 0 | Date : 23 - 0 | Date : 23 - 0 | Date : 23 - 0 | \n",
      "\n",
      "Date : 24 - 323 | Date : 24 - 92 | Date : 24 - 286 | Date : 24 - 351 | \n",
      "\n",
      "Date : 25 - 0 | Date : 25 - 0 | Date : 25 - 0 | Date : 25 - 0 | \n",
      "\n",
      "Date : 26 - 0 | Date : 26 - 0 | Date : 26 - 0 | Date : 26 - 0 | \n",
      "\n",
      "Date : 27 - 299 | Date : 27 - 94 | Date : 27 - 382 | Date : 27 - 355 | \n",
      "\n",
      "Date : 28 - 0 | Date : 28 - 0 | Date : 28 - 0 | Date : 28 - 0 | \n",
      "\n",
      "Date : 29 - 0 | Date : 29 - 0 | Date : 29 - 0 | Date : 29 - 0 | \n",
      "\n",
      "Date : 30 - 0 | Date : 30 - 0 | Date : 30 - 0 | Date : 30 - 0 | \n",
      "\n",
      "Date : 31 - 0 | Date : 31 - 0 | Date : 31 - 0 | Date : 31 - 0 | \n",
      "\n"
     ]
    }
   ],
   "source": [
    "for i in range(1,32):\n",
    "    print('Date :',i,'-',len(df.loc[(df.Month == 3) & (df.Day == i)]),end=\" | \")\n",
    "    print('Date :',i,'-',len(df.loc[(df.Month == 4) & (df.Day == i)]),end=\" | \")\n",
    "    print('Date :',i,'-',len(df.loc[(df.Month == 5) & (df.Day == i)]),end=\" | \")\n",
    "    print('Date :',i,'-',len(df.loc[(df.Month == 6) & (df.Day == i)]),end=\" | \")\n",
    "    print('\\n')"
   ]
  },
  {
   "cell_type": "code",
   "execution_count": 23,
   "metadata": {},
   "outputs": [],
   "source": [
    "# creating a dictionary to store flight running schedule\n",
    "\n",
    "dictionary = {\n",
    "    'Date': [],\n",
    "    'Month 3': [],\n",
    "    'Month 4': [],\n",
    "    'Month 5': [],\n",
    "    'Month 6': [],\n",
    "}"
   ]
  },
  {
   "cell_type": "code",
   "execution_count": 24,
   "metadata": {},
   "outputs": [],
   "source": [
    "for i in range(1,32):\n",
    "    dictionary['Date'].append(i)\n",
    "    dictionary['Month 3'].append(len(df.loc[(df.Month == 3) & (df.Day == i)]))\n",
    "    dictionary['Month 4'].append(len(df.loc[(df.Month == 4) & (df.Day == i)]))\n",
    "    dictionary['Month 5'].append(len(df.loc[(df.Month == 5) & (df.Day == i)]))\n",
    "    dictionary['Month 6'].append(len(df.loc[(df.Month == 6) & (df.Day == i)]))"
   ]
  },
  {
   "cell_type": "code",
   "execution_count": 25,
   "metadata": {},
   "outputs": [],
   "source": [
    "# flight runnung schedule dataframe\n",
    "\n",
    "flight_running_schedule = pd.DataFrame(dictionary)"
   ]
  },
  {
   "cell_type": "code",
   "execution_count": 27,
   "metadata": {},
   "outputs": [
    {
     "data": {
      "text/html": [
       "<div>\n",
       "<style scoped>\n",
       "    .dataframe tbody tr th:only-of-type {\n",
       "        vertical-align: middle;\n",
       "    }\n",
       "\n",
       "    .dataframe tbody tr th {\n",
       "        vertical-align: top;\n",
       "    }\n",
       "\n",
       "    .dataframe thead th {\n",
       "        text-align: right;\n",
       "    }\n",
       "</style>\n",
       "<table border=\"1\" class=\"dataframe\">\n",
       "  <thead>\n",
       "    <tr style=\"text-align: right;\">\n",
       "      <th></th>\n",
       "      <th>Date</th>\n",
       "      <th>Month 3</th>\n",
       "      <th>Month 4</th>\n",
       "      <th>Month 5</th>\n",
       "      <th>Month 6</th>\n",
       "    </tr>\n",
       "  </thead>\n",
       "  <tbody>\n",
       "    <tr>\n",
       "      <th>0</th>\n",
       "      <td>1</td>\n",
       "      <td>199</td>\n",
       "      <td>257</td>\n",
       "      <td>277</td>\n",
       "      <td>342</td>\n",
       "    </tr>\n",
       "    <tr>\n",
       "      <th>1</th>\n",
       "      <td>2</td>\n",
       "      <td>0</td>\n",
       "      <td>0</td>\n",
       "      <td>0</td>\n",
       "      <td>0</td>\n",
       "    </tr>\n",
       "    <tr>\n",
       "      <th>2</th>\n",
       "      <td>3</td>\n",
       "      <td>315</td>\n",
       "      <td>110</td>\n",
       "      <td>90</td>\n",
       "      <td>333</td>\n",
       "    </tr>\n",
       "    <tr>\n",
       "      <th>3</th>\n",
       "      <td>4</td>\n",
       "      <td>0</td>\n",
       "      <td>0</td>\n",
       "      <td>0</td>\n",
       "      <td>0</td>\n",
       "    </tr>\n",
       "    <tr>\n",
       "      <th>4</th>\n",
       "      <td>5</td>\n",
       "      <td>0</td>\n",
       "      <td>0</td>\n",
       "      <td>0</td>\n",
       "      <td>0</td>\n",
       "    </tr>\n",
       "    <tr>\n",
       "      <th>5</th>\n",
       "      <td>6</td>\n",
       "      <td>403</td>\n",
       "      <td>100</td>\n",
       "      <td>281</td>\n",
       "      <td>503</td>\n",
       "    </tr>\n",
       "    <tr>\n",
       "      <th>6</th>\n",
       "      <td>7</td>\n",
       "      <td>0</td>\n",
       "      <td>0</td>\n",
       "      <td>0</td>\n",
       "      <td>0</td>\n",
       "    </tr>\n",
       "    <tr>\n",
       "      <th>7</th>\n",
       "      <td>8</td>\n",
       "      <td>0</td>\n",
       "      <td>0</td>\n",
       "      <td>0</td>\n",
       "      <td>0</td>\n",
       "    </tr>\n",
       "    <tr>\n",
       "      <th>8</th>\n",
       "      <td>9</td>\n",
       "      <td>302</td>\n",
       "      <td>125</td>\n",
       "      <td>484</td>\n",
       "      <td>495</td>\n",
       "    </tr>\n",
       "    <tr>\n",
       "      <th>9</th>\n",
       "      <td>10</td>\n",
       "      <td>0</td>\n",
       "      <td>0</td>\n",
       "      <td>0</td>\n",
       "      <td>0</td>\n",
       "    </tr>\n",
       "    <tr>\n",
       "      <th>10</th>\n",
       "      <td>11</td>\n",
       "      <td>0</td>\n",
       "      <td>0</td>\n",
       "      <td>0</td>\n",
       "      <td>0</td>\n",
       "    </tr>\n",
       "    <tr>\n",
       "      <th>11</th>\n",
       "      <td>12</td>\n",
       "      <td>142</td>\n",
       "      <td>63</td>\n",
       "      <td>259</td>\n",
       "      <td>493</td>\n",
       "    </tr>\n",
       "    <tr>\n",
       "      <th>12</th>\n",
       "      <td>13</td>\n",
       "      <td>0</td>\n",
       "      <td>0</td>\n",
       "      <td>0</td>\n",
       "      <td>0</td>\n",
       "    </tr>\n",
       "    <tr>\n",
       "      <th>13</th>\n",
       "      <td>14</td>\n",
       "      <td>0</td>\n",
       "      <td>0</td>\n",
       "      <td>0</td>\n",
       "      <td>0</td>\n",
       "    </tr>\n",
       "    <tr>\n",
       "      <th>14</th>\n",
       "      <td>15</td>\n",
       "      <td>162</td>\n",
       "      <td>89</td>\n",
       "      <td>405</td>\n",
       "      <td>328</td>\n",
       "    </tr>\n",
       "    <tr>\n",
       "      <th>15</th>\n",
       "      <td>16</td>\n",
       "      <td>0</td>\n",
       "      <td>0</td>\n",
       "      <td>0</td>\n",
       "      <td>0</td>\n",
       "    </tr>\n",
       "    <tr>\n",
       "      <th>16</th>\n",
       "      <td>17</td>\n",
       "      <td>0</td>\n",
       "      <td>0</td>\n",
       "      <td>0</td>\n",
       "      <td>0</td>\n",
       "    </tr>\n",
       "    <tr>\n",
       "      <th>17</th>\n",
       "      <td>18</td>\n",
       "      <td>156</td>\n",
       "      <td>67</td>\n",
       "      <td>504</td>\n",
       "      <td>105</td>\n",
       "    </tr>\n",
       "    <tr>\n",
       "      <th>18</th>\n",
       "      <td>19</td>\n",
       "      <td>0</td>\n",
       "      <td>0</td>\n",
       "      <td>0</td>\n",
       "      <td>0</td>\n",
       "    </tr>\n",
       "    <tr>\n",
       "      <th>19</th>\n",
       "      <td>20</td>\n",
       "      <td>0</td>\n",
       "      <td>0</td>\n",
       "      <td>0</td>\n",
       "      <td>0</td>\n",
       "    </tr>\n",
       "    <tr>\n",
       "      <th>20</th>\n",
       "      <td>21</td>\n",
       "      <td>423</td>\n",
       "      <td>82</td>\n",
       "      <td>497</td>\n",
       "      <td>109</td>\n",
       "    </tr>\n",
       "    <tr>\n",
       "      <th>21</th>\n",
       "      <td>22</td>\n",
       "      <td>0</td>\n",
       "      <td>0</td>\n",
       "      <td>0</td>\n",
       "      <td>0</td>\n",
       "    </tr>\n",
       "    <tr>\n",
       "      <th>22</th>\n",
       "      <td>23</td>\n",
       "      <td>0</td>\n",
       "      <td>0</td>\n",
       "      <td>0</td>\n",
       "      <td>0</td>\n",
       "    </tr>\n",
       "    <tr>\n",
       "      <th>23</th>\n",
       "      <td>24</td>\n",
       "      <td>323</td>\n",
       "      <td>92</td>\n",
       "      <td>286</td>\n",
       "      <td>351</td>\n",
       "    </tr>\n",
       "    <tr>\n",
       "      <th>24</th>\n",
       "      <td>25</td>\n",
       "      <td>0</td>\n",
       "      <td>0</td>\n",
       "      <td>0</td>\n",
       "      <td>0</td>\n",
       "    </tr>\n",
       "    <tr>\n",
       "      <th>25</th>\n",
       "      <td>26</td>\n",
       "      <td>0</td>\n",
       "      <td>0</td>\n",
       "      <td>0</td>\n",
       "      <td>0</td>\n",
       "    </tr>\n",
       "    <tr>\n",
       "      <th>26</th>\n",
       "      <td>27</td>\n",
       "      <td>299</td>\n",
       "      <td>94</td>\n",
       "      <td>382</td>\n",
       "      <td>355</td>\n",
       "    </tr>\n",
       "    <tr>\n",
       "      <th>27</th>\n",
       "      <td>28</td>\n",
       "      <td>0</td>\n",
       "      <td>0</td>\n",
       "      <td>0</td>\n",
       "      <td>0</td>\n",
       "    </tr>\n",
       "    <tr>\n",
       "      <th>28</th>\n",
       "      <td>29</td>\n",
       "      <td>0</td>\n",
       "      <td>0</td>\n",
       "      <td>0</td>\n",
       "      <td>0</td>\n",
       "    </tr>\n",
       "    <tr>\n",
       "      <th>29</th>\n",
       "      <td>30</td>\n",
       "      <td>0</td>\n",
       "      <td>0</td>\n",
       "      <td>0</td>\n",
       "      <td>0</td>\n",
       "    </tr>\n",
       "    <tr>\n",
       "      <th>30</th>\n",
       "      <td>31</td>\n",
       "      <td>0</td>\n",
       "      <td>0</td>\n",
       "      <td>0</td>\n",
       "      <td>0</td>\n",
       "    </tr>\n",
       "  </tbody>\n",
       "</table>\n",
       "</div>"
      ],
      "text/plain": [
       "    Date  Month 3  Month 4  Month 5  Month 6\n",
       "0      1      199      257      277      342\n",
       "1      2        0        0        0        0\n",
       "2      3      315      110       90      333\n",
       "3      4        0        0        0        0\n",
       "4      5        0        0        0        0\n",
       "5      6      403      100      281      503\n",
       "6      7        0        0        0        0\n",
       "7      8        0        0        0        0\n",
       "8      9      302      125      484      495\n",
       "9     10        0        0        0        0\n",
       "10    11        0        0        0        0\n",
       "11    12      142       63      259      493\n",
       "12    13        0        0        0        0\n",
       "13    14        0        0        0        0\n",
       "14    15      162       89      405      328\n",
       "15    16        0        0        0        0\n",
       "16    17        0        0        0        0\n",
       "17    18      156       67      504      105\n",
       "18    19        0        0        0        0\n",
       "19    20        0        0        0        0\n",
       "20    21      423       82      497      109\n",
       "21    22        0        0        0        0\n",
       "22    23        0        0        0        0\n",
       "23    24      323       92      286      351\n",
       "24    25        0        0        0        0\n",
       "25    26        0        0        0        0\n",
       "26    27      299       94      382      355\n",
       "27    28        0        0        0        0\n",
       "28    29        0        0        0        0\n",
       "29    30        0        0        0        0\n",
       "30    31        0        0        0        0"
      ]
     },
     "execution_count": 27,
     "metadata": {},
     "output_type": "execute_result"
    }
   ],
   "source": [
    "flight_running_schedule"
   ]
  },
  {
   "cell_type": "code",
   "execution_count": 28,
   "metadata": {},
   "outputs": [],
   "source": [
    "# writing dataframe to xlsx\n",
    "\n",
    "writer = pd.ExcelWriter(\"C:\\\\Users\\\\Ashutosh Kumar Singh\\\\PythonTraining\\\\flight raw\\\\flight_running_schedule.xlsx\")\n",
    "flight_running_schedule.to_excel(writer,'Sheet1')\n",
    "writer.save()"
   ]
  },
  {
   "cell_type": "code",
   "execution_count": null,
   "metadata": {},
   "outputs": [],
   "source": []
  },
  {
   "cell_type": "code",
   "execution_count": null,
   "metadata": {},
   "outputs": [],
   "source": []
  },
  {
   "cell_type": "code",
   "execution_count": null,
   "metadata": {},
   "outputs": [],
   "source": []
  },
  {
   "cell_type": "code",
   "execution_count": null,
   "metadata": {},
   "outputs": [],
   "source": []
  }
 ],
 "metadata": {
  "kernelspec": {
   "display_name": "Python 3",
   "language": "python",
   "name": "python3"
  },
  "language_info": {
   "codemirror_mode": {
    "name": "ipython",
    "version": 3
   },
   "file_extension": ".py",
   "mimetype": "text/x-python",
   "name": "python",
   "nbconvert_exporter": "python",
   "pygments_lexer": "ipython3",
   "version": "3.7.3"
  }
 },
 "nbformat": 4,
 "nbformat_minor": 2
}
