{
 "cells": [
  {
   "cell_type": "markdown",
   "metadata": {},
   "source": [
    "# Improved Flight Price Prediction"
   ]
  },
  {
   "cell_type": "markdown",
   "metadata": {},
   "source": [
    "## ~ <u><i>'Extreme Gradient Boosting Model'</i></u>"
   ]
  },
  {
   "cell_type": "markdown",
   "metadata": {},
   "source": [
    "#### Required Libraries"
   ]
  },
  {
   "cell_type": "code",
   "execution_count": 1,
   "metadata": {},
   "outputs": [],
   "source": [
    "import pandas as pd\n",
    "import numpy as np  \n",
    "import matplotlib.pyplot as plt  \n",
    "import seaborn as sns \n",
    "from sklearn.model_selection import train_test_split \n",
    "from sklearn import metrics\n",
    "from sklearn.preprocessing import MinMaxScaler\n",
    "import xgboost \n",
    "from xgboost import XGBRegressor"
   ]
  },
  {
   "cell_type": "markdown",
   "metadata": {},
   "source": [
    "### Reading Dataset and Creating DataFrame"
   ]
  },
  {
   "cell_type": "code",
   "execution_count": 21,
   "metadata": {
    "scrolled": true
   },
   "outputs": [
    {
     "data": {
      "text/html": [
       "<div>\n",
       "<style scoped>\n",
       "    .dataframe tbody tr th:only-of-type {\n",
       "        vertical-align: middle;\n",
       "    }\n",
       "\n",
       "    .dataframe tbody tr th {\n",
       "        vertical-align: top;\n",
       "    }\n",
       "\n",
       "    .dataframe thead th {\n",
       "        text-align: right;\n",
       "    }\n",
       "</style>\n",
       "<table border=\"1\" class=\"dataframe\">\n",
       "  <thead>\n",
       "    <tr style=\"text-align: right;\">\n",
       "      <th></th>\n",
       "      <th>Unnamed: 0</th>\n",
       "      <th>Name</th>\n",
       "      <th>From</th>\n",
       "      <th>To</th>\n",
       "      <th>Stops</th>\n",
       "      <th>Extra Services</th>\n",
       "      <th>Price</th>\n",
       "      <th>Encoded Route</th>\n",
       "      <th>Duration</th>\n",
       "      <th>Month</th>\n",
       "      <th>Day</th>\n",
       "    </tr>\n",
       "  </thead>\n",
       "  <tbody>\n",
       "    <tr>\n",
       "      <th>0</th>\n",
       "      <td>0</td>\n",
       "      <td>1</td>\n",
       "      <td>0</td>\n",
       "      <td>5</td>\n",
       "      <td>1</td>\n",
       "      <td>8</td>\n",
       "      <td>17135</td>\n",
       "      <td>3</td>\n",
       "      <td>2345</td>\n",
       "      <td>3</td>\n",
       "      <td>1</td>\n",
       "    </tr>\n",
       "    <tr>\n",
       "      <th>1</th>\n",
       "      <td>1</td>\n",
       "      <td>10</td>\n",
       "      <td>0</td>\n",
       "      <td>5</td>\n",
       "      <td>4</td>\n",
       "      <td>8</td>\n",
       "      <td>21520</td>\n",
       "      <td>18</td>\n",
       "      <td>160</td>\n",
       "      <td>3</td>\n",
       "      <td>1</td>\n",
       "    </tr>\n",
       "    <tr>\n",
       "      <th>2</th>\n",
       "      <td>2</td>\n",
       "      <td>4</td>\n",
       "      <td>0</td>\n",
       "      <td>5</td>\n",
       "      <td>0</td>\n",
       "      <td>8</td>\n",
       "      <td>26890</td>\n",
       "      <td>5</td>\n",
       "      <td>435</td>\n",
       "      <td>3</td>\n",
       "      <td>1</td>\n",
       "    </tr>\n",
       "    <tr>\n",
       "      <th>3</th>\n",
       "      <td>3</td>\n",
       "      <td>1</td>\n",
       "      <td>0</td>\n",
       "      <td>5</td>\n",
       "      <td>0</td>\n",
       "      <td>8</td>\n",
       "      <td>23677</td>\n",
       "      <td>5</td>\n",
       "      <td>330</td>\n",
       "      <td>3</td>\n",
       "      <td>1</td>\n",
       "    </tr>\n",
       "    <tr>\n",
       "      <th>4</th>\n",
       "      <td>4</td>\n",
       "      <td>3</td>\n",
       "      <td>0</td>\n",
       "      <td>5</td>\n",
       "      <td>4</td>\n",
       "      <td>8</td>\n",
       "      <td>11934</td>\n",
       "      <td>18</td>\n",
       "      <td>170</td>\n",
       "      <td>3</td>\n",
       "      <td>1</td>\n",
       "    </tr>\n",
       "  </tbody>\n",
       "</table>\n",
       "</div>"
      ],
      "text/plain": [
       "   Unnamed: 0  Name  From  To  Stops  Extra Services  Price  Encoded Route  \\\n",
       "0           0     1     0   5      1               8  17135              3   \n",
       "1           1    10     0   5      4               8  21520             18   \n",
       "2           2     4     0   5      0               8  26890              5   \n",
       "3           3     1     0   5      0               8  23677              5   \n",
       "4           4     3     0   5      4               8  11934             18   \n",
       "\n",
       "   Duration  Month  Day  \n",
       "0      2345      3    1  \n",
       "1       160      3    1  \n",
       "2       435      3    1  \n",
       "3       330      3    1  \n",
       "4       170      3    1  "
      ]
     },
     "execution_count": 21,
     "metadata": {},
     "output_type": "execute_result"
    }
   ],
   "source": [
    "df = pd.read_excel(\"Again_Preprocessed_Flight_data.xlsx\")\n",
    "df.head()"
   ]
  },
  {
   "cell_type": "code",
   "execution_count": 22,
   "metadata": {},
   "outputs": [
    {
     "data": {
      "text/html": [
       "<div>\n",
       "<style scoped>\n",
       "    .dataframe tbody tr th:only-of-type {\n",
       "        vertical-align: middle;\n",
       "    }\n",
       "\n",
       "    .dataframe tbody tr th {\n",
       "        vertical-align: top;\n",
       "    }\n",
       "\n",
       "    .dataframe thead th {\n",
       "        text-align: right;\n",
       "    }\n",
       "</style>\n",
       "<table border=\"1\" class=\"dataframe\">\n",
       "  <thead>\n",
       "    <tr style=\"text-align: right;\">\n",
       "      <th></th>\n",
       "      <th>Name</th>\n",
       "      <th>From</th>\n",
       "      <th>To</th>\n",
       "      <th>Stops</th>\n",
       "      <th>Extra Services</th>\n",
       "      <th>Price</th>\n",
       "      <th>Encoded Route</th>\n",
       "      <th>Duration</th>\n",
       "      <th>Month</th>\n",
       "      <th>Day</th>\n",
       "    </tr>\n",
       "  </thead>\n",
       "  <tbody>\n",
       "    <tr>\n",
       "      <th>0</th>\n",
       "      <td>1</td>\n",
       "      <td>0</td>\n",
       "      <td>5</td>\n",
       "      <td>1</td>\n",
       "      <td>8</td>\n",
       "      <td>17135</td>\n",
       "      <td>3</td>\n",
       "      <td>2345</td>\n",
       "      <td>3</td>\n",
       "      <td>1</td>\n",
       "    </tr>\n",
       "    <tr>\n",
       "      <th>1</th>\n",
       "      <td>10</td>\n",
       "      <td>0</td>\n",
       "      <td>5</td>\n",
       "      <td>4</td>\n",
       "      <td>8</td>\n",
       "      <td>21520</td>\n",
       "      <td>18</td>\n",
       "      <td>160</td>\n",
       "      <td>3</td>\n",
       "      <td>1</td>\n",
       "    </tr>\n",
       "    <tr>\n",
       "      <th>2</th>\n",
       "      <td>4</td>\n",
       "      <td>0</td>\n",
       "      <td>5</td>\n",
       "      <td>0</td>\n",
       "      <td>8</td>\n",
       "      <td>26890</td>\n",
       "      <td>5</td>\n",
       "      <td>435</td>\n",
       "      <td>3</td>\n",
       "      <td>1</td>\n",
       "    </tr>\n",
       "    <tr>\n",
       "      <th>3</th>\n",
       "      <td>1</td>\n",
       "      <td>0</td>\n",
       "      <td>5</td>\n",
       "      <td>0</td>\n",
       "      <td>8</td>\n",
       "      <td>23677</td>\n",
       "      <td>5</td>\n",
       "      <td>330</td>\n",
       "      <td>3</td>\n",
       "      <td>1</td>\n",
       "    </tr>\n",
       "    <tr>\n",
       "      <th>4</th>\n",
       "      <td>3</td>\n",
       "      <td>0</td>\n",
       "      <td>5</td>\n",
       "      <td>4</td>\n",
       "      <td>8</td>\n",
       "      <td>11934</td>\n",
       "      <td>18</td>\n",
       "      <td>170</td>\n",
       "      <td>3</td>\n",
       "      <td>1</td>\n",
       "    </tr>\n",
       "  </tbody>\n",
       "</table>\n",
       "</div>"
      ],
      "text/plain": [
       "   Name  From  To  Stops  Extra Services  Price  Encoded Route  Duration  \\\n",
       "0     1     0   5      1               8  17135              3      2345   \n",
       "1    10     0   5      4               8  21520             18       160   \n",
       "2     4     0   5      0               8  26890              5       435   \n",
       "3     1     0   5      0               8  23677              5       330   \n",
       "4     3     0   5      4               8  11934             18       170   \n",
       "\n",
       "   Month  Day  \n",
       "0      3    1  \n",
       "1      3    1  \n",
       "2      3    1  \n",
       "3      3    1  \n",
       "4      3    1  "
      ]
     },
     "execution_count": 22,
     "metadata": {},
     "output_type": "execute_result"
    }
   ],
   "source": [
    "# dropping Unnamed Column\n",
    "\n",
    "df.rename({\"Unnamed: 0\":\"False\"}, axis=1, inplace=True)\n",
    "df.drop([\"False\"], axis=1, inplace=True)\n",
    "\n",
    "df.head()"
   ]
  },
  {
   "cell_type": "markdown",
   "metadata": {},
   "source": [
    "#### List of Features"
   ]
  },
  {
   "cell_type": "code",
   "execution_count": 4,
   "metadata": {},
   "outputs": [
    {
     "data": {
      "text/plain": [
       "Index(['Name', 'From', 'To', 'Stops', 'Extra Services', 'Price',\n",
       "       'Encoded Route', 'Duration', 'Month', 'Day'],\n",
       "      dtype='object')"
      ]
     },
     "execution_count": 4,
     "metadata": {},
     "output_type": "execute_result"
    }
   ],
   "source": [
    "df.columns"
   ]
  },
  {
   "cell_type": "markdown",
   "metadata": {},
   "source": [
    "#### Dataset Descripton"
   ]
  },
  {
   "cell_type": "code",
   "execution_count": 5,
   "metadata": {},
   "outputs": [
    {
     "name": "stdout",
     "output_type": "stream",
     "text": [
      "<class 'pandas.core.frame.DataFrame'>\n",
      "RangeIndex: 10682 entries, 0 to 10681\n",
      "Data columns (total 10 columns):\n",
      "Name              10682 non-null int64\n",
      "From              10682 non-null int64\n",
      "To                10682 non-null int64\n",
      "Stops             10682 non-null int64\n",
      "Extra Services    10682 non-null int64\n",
      "Price             10682 non-null int64\n",
      "Encoded Route     10682 non-null int64\n",
      "Duration          10682 non-null int64\n",
      "Month             10682 non-null int64\n",
      "Day               10682 non-null int64\n",
      "dtypes: int64(10)\n",
      "memory usage: 834.6 KB\n"
     ]
    }
   ],
   "source": [
    "df.info()"
   ]
  },
  {
   "cell_type": "code",
   "execution_count": 6,
   "metadata": {},
   "outputs": [
    {
     "data": {
      "text/html": [
       "<div>\n",
       "<style scoped>\n",
       "    .dataframe tbody tr th:only-of-type {\n",
       "        vertical-align: middle;\n",
       "    }\n",
       "\n",
       "    .dataframe tbody tr th {\n",
       "        vertical-align: top;\n",
       "    }\n",
       "\n",
       "    .dataframe thead th {\n",
       "        text-align: right;\n",
       "    }\n",
       "</style>\n",
       "<table border=\"1\" class=\"dataframe\">\n",
       "  <thead>\n",
       "    <tr style=\"text-align: right;\">\n",
       "      <th></th>\n",
       "      <th>Name</th>\n",
       "      <th>From</th>\n",
       "      <th>To</th>\n",
       "      <th>Stops</th>\n",
       "      <th>Extra Services</th>\n",
       "      <th>Price</th>\n",
       "      <th>Encoded Route</th>\n",
       "      <th>Duration</th>\n",
       "      <th>Month</th>\n",
       "      <th>Day</th>\n",
       "    </tr>\n",
       "  </thead>\n",
       "  <tbody>\n",
       "    <tr>\n",
       "      <th>count</th>\n",
       "      <td>10682.000000</td>\n",
       "      <td>10682.000000</td>\n",
       "      <td>10682.000000</td>\n",
       "      <td>10682.000000</td>\n",
       "      <td>10682.000000</td>\n",
       "      <td>10682.000000</td>\n",
       "      <td>10682.000000</td>\n",
       "      <td>10682.000000</td>\n",
       "      <td>10682.000000</td>\n",
       "      <td>10682.000000</td>\n",
       "    </tr>\n",
       "    <tr>\n",
       "      <th>mean</th>\n",
       "      <td>3.966205</td>\n",
       "      <td>1.952256</td>\n",
       "      <td>1.436154</td>\n",
       "      <td>1.458248</td>\n",
       "      <td>7.392998</td>\n",
       "      <td>9087.214567</td>\n",
       "      <td>74.820165</td>\n",
       "      <td>643.020502</td>\n",
       "      <td>4.708575</td>\n",
       "      <td>13.509081</td>\n",
       "    </tr>\n",
       "    <tr>\n",
       "      <th>std</th>\n",
       "      <td>2.352090</td>\n",
       "      <td>1.177276</td>\n",
       "      <td>1.474845</td>\n",
       "      <td>1.806320</td>\n",
       "      <td>1.214254</td>\n",
       "      <td>4611.548810</td>\n",
       "      <td>36.729039</td>\n",
       "      <td>507.830133</td>\n",
       "      <td>1.164408</td>\n",
       "      <td>8.479363</td>\n",
       "    </tr>\n",
       "    <tr>\n",
       "      <th>min</th>\n",
       "      <td>0.000000</td>\n",
       "      <td>0.000000</td>\n",
       "      <td>0.000000</td>\n",
       "      <td>0.000000</td>\n",
       "      <td>0.000000</td>\n",
       "      <td>1759.000000</td>\n",
       "      <td>0.000000</td>\n",
       "      <td>5.000000</td>\n",
       "      <td>3.000000</td>\n",
       "      <td>1.000000</td>\n",
       "    </tr>\n",
       "    <tr>\n",
       "      <th>25%</th>\n",
       "      <td>3.000000</td>\n",
       "      <td>2.000000</td>\n",
       "      <td>0.000000</td>\n",
       "      <td>0.000000</td>\n",
       "      <td>8.000000</td>\n",
       "      <td>5277.000000</td>\n",
       "      <td>48.000000</td>\n",
       "      <td>170.000000</td>\n",
       "      <td>3.000000</td>\n",
       "      <td>6.000000</td>\n",
       "    </tr>\n",
       "    <tr>\n",
       "      <th>50%</th>\n",
       "      <td>4.000000</td>\n",
       "      <td>2.000000</td>\n",
       "      <td>1.000000</td>\n",
       "      <td>0.000000</td>\n",
       "      <td>8.000000</td>\n",
       "      <td>8372.000000</td>\n",
       "      <td>73.000000</td>\n",
       "      <td>520.000000</td>\n",
       "      <td>5.000000</td>\n",
       "      <td>12.000000</td>\n",
       "    </tr>\n",
       "    <tr>\n",
       "      <th>75%</th>\n",
       "      <td>4.000000</td>\n",
       "      <td>3.000000</td>\n",
       "      <td>2.000000</td>\n",
       "      <td>4.000000</td>\n",
       "      <td>8.000000</td>\n",
       "      <td>12373.000000</td>\n",
       "      <td>104.000000</td>\n",
       "      <td>930.000000</td>\n",
       "      <td>6.000000</td>\n",
       "      <td>21.000000</td>\n",
       "    </tr>\n",
       "    <tr>\n",
       "      <th>max</th>\n",
       "      <td>11.000000</td>\n",
       "      <td>4.000000</td>\n",
       "      <td>5.000000</td>\n",
       "      <td>4.000000</td>\n",
       "      <td>9.000000</td>\n",
       "      <td>79512.000000</td>\n",
       "      <td>127.000000</td>\n",
       "      <td>2860.000000</td>\n",
       "      <td>6.000000</td>\n",
       "      <td>27.000000</td>\n",
       "    </tr>\n",
       "  </tbody>\n",
       "</table>\n",
       "</div>"
      ],
      "text/plain": [
       "               Name          From            To         Stops  Extra Services  \\\n",
       "count  10682.000000  10682.000000  10682.000000  10682.000000    10682.000000   \n",
       "mean       3.966205      1.952256      1.436154      1.458248        7.392998   \n",
       "std        2.352090      1.177276      1.474845      1.806320        1.214254   \n",
       "min        0.000000      0.000000      0.000000      0.000000        0.000000   \n",
       "25%        3.000000      2.000000      0.000000      0.000000        8.000000   \n",
       "50%        4.000000      2.000000      1.000000      0.000000        8.000000   \n",
       "75%        4.000000      3.000000      2.000000      4.000000        8.000000   \n",
       "max       11.000000      4.000000      5.000000      4.000000        9.000000   \n",
       "\n",
       "              Price  Encoded Route      Duration         Month           Day  \n",
       "count  10682.000000   10682.000000  10682.000000  10682.000000  10682.000000  \n",
       "mean    9087.214567      74.820165    643.020502      4.708575     13.509081  \n",
       "std     4611.548810      36.729039    507.830133      1.164408      8.479363  \n",
       "min     1759.000000       0.000000      5.000000      3.000000      1.000000  \n",
       "25%     5277.000000      48.000000    170.000000      3.000000      6.000000  \n",
       "50%     8372.000000      73.000000    520.000000      5.000000     12.000000  \n",
       "75%    12373.000000     104.000000    930.000000      6.000000     21.000000  \n",
       "max    79512.000000     127.000000   2860.000000      6.000000     27.000000  "
      ]
     },
     "execution_count": 6,
     "metadata": {},
     "output_type": "execute_result"
    }
   ],
   "source": [
    "df.describe()"
   ]
  },
  {
   "cell_type": "markdown",
   "metadata": {},
   "source": [
    "#### Correlation Matrix"
   ]
  },
  {
   "cell_type": "code",
   "execution_count": 23,
   "metadata": {},
   "outputs": [
    {
     "data": {
      "text/html": [
       "<style  type=\"text/css\" >\n",
       "    #T_a52e4e68_ea50_11e9_be46_186024bd7ae7row0_col0 {\n",
       "            background-color:  #b40426;\n",
       "            color:  #f1f1f1;\n",
       "        }    #T_a52e4e68_ea50_11e9_be46_186024bd7ae7row0_col1 {\n",
       "            background-color:  #b5cdfa;\n",
       "            color:  #000000;\n",
       "        }    #T_a52e4e68_ea50_11e9_be46_186024bd7ae7row0_col2 {\n",
       "            background-color:  #bbd1f8;\n",
       "            color:  #000000;\n",
       "        }    #T_a52e4e68_ea50_11e9_be46_186024bd7ae7row0_col3 {\n",
       "            background-color:  #bfd3f6;\n",
       "            color:  #000000;\n",
       "        }    #T_a52e4e68_ea50_11e9_be46_186024bd7ae7row0_col4 {\n",
       "            background-color:  #5673e0;\n",
       "            color:  #000000;\n",
       "        }    #T_a52e4e68_ea50_11e9_be46_186024bd7ae7row0_col5 {\n",
       "            background-color:  #abc8fd;\n",
       "            color:  #000000;\n",
       "        }    #T_a52e4e68_ea50_11e9_be46_186024bd7ae7row0_col6 {\n",
       "            background-color:  #aac7fd;\n",
       "            color:  #000000;\n",
       "        }    #T_a52e4e68_ea50_11e9_be46_186024bd7ae7row0_col7 {\n",
       "            background-color:  #96b7ff;\n",
       "            color:  #000000;\n",
       "        }    #T_a52e4e68_ea50_11e9_be46_186024bd7ae7row0_col8 {\n",
       "            background-color:  #9abbff;\n",
       "            color:  #000000;\n",
       "        }    #T_a52e4e68_ea50_11e9_be46_186024bd7ae7row0_col9 {\n",
       "            background-color:  #6b8df0;\n",
       "            color:  #000000;\n",
       "        }    #T_a52e4e68_ea50_11e9_be46_186024bd7ae7row1_col0 {\n",
       "            background-color:  #6282ea;\n",
       "            color:  #000000;\n",
       "        }    #T_a52e4e68_ea50_11e9_be46_186024bd7ae7row1_col1 {\n",
       "            background-color:  #b40426;\n",
       "            color:  #f1f1f1;\n",
       "        }    #T_a52e4e68_ea50_11e9_be46_186024bd7ae7row1_col2 {\n",
       "            background-color:  #3b4cc0;\n",
       "            color:  #f1f1f1;\n",
       "        }    #T_a52e4e68_ea50_11e9_be46_186024bd7ae7row1_col3 {\n",
       "            background-color:  #88abfd;\n",
       "            color:  #000000;\n",
       "        }    #T_a52e4e68_ea50_11e9_be46_186024bd7ae7row1_col4 {\n",
       "            background-color:  #6180e9;\n",
       "            color:  #000000;\n",
       "        }    #T_a52e4e68_ea50_11e9_be46_186024bd7ae7row1_col5 {\n",
       "            background-color:  #b7cff9;\n",
       "            color:  #000000;\n",
       "        }    #T_a52e4e68_ea50_11e9_be46_186024bd7ae7row1_col6 {\n",
       "            background-color:  #f1cdba;\n",
       "            color:  #000000;\n",
       "        }    #T_a52e4e68_ea50_11e9_be46_186024bd7ae7row1_col7 {\n",
       "            background-color:  #d7dce3;\n",
       "            color:  #000000;\n",
       "        }    #T_a52e4e68_ea50_11e9_be46_186024bd7ae7row1_col8 {\n",
       "            background-color:  #c0d4f5;\n",
       "            color:  #000000;\n",
       "        }    #T_a52e4e68_ea50_11e9_be46_186024bd7ae7row1_col9 {\n",
       "            background-color:  #6687ed;\n",
       "            color:  #000000;\n",
       "        }    #T_a52e4e68_ea50_11e9_be46_186024bd7ae7row2_col0 {\n",
       "            background-color:  #6b8df0;\n",
       "            color:  #000000;\n",
       "        }    #T_a52e4e68_ea50_11e9_be46_186024bd7ae7row2_col1 {\n",
       "            background-color:  #3b4cc0;\n",
       "            color:  #f1f1f1;\n",
       "        }    #T_a52e4e68_ea50_11e9_be46_186024bd7ae7row2_col2 {\n",
       "            background-color:  #b40426;\n",
       "            color:  #f1f1f1;\n",
       "        }    #T_a52e4e68_ea50_11e9_be46_186024bd7ae7row2_col3 {\n",
       "            background-color:  #f0cdbb;\n",
       "            color:  #000000;\n",
       "        }    #T_a52e4e68_ea50_11e9_be46_186024bd7ae7row2_col4 {\n",
       "            background-color:  #6f92f3;\n",
       "            color:  #000000;\n",
       "        }    #T_a52e4e68_ea50_11e9_be46_186024bd7ae7row2_col5 {\n",
       "            background-color:  #a5c3fe;\n",
       "            color:  #000000;\n",
       "        }    #T_a52e4e68_ea50_11e9_be46_186024bd7ae7row2_col6 {\n",
       "            background-color:  #3b4cc0;\n",
       "            color:  #f1f1f1;\n",
       "        }    #T_a52e4e68_ea50_11e9_be46_186024bd7ae7row2_col7 {\n",
       "            background-color:  #81a4fb;\n",
       "            color:  #000000;\n",
       "        }    #T_a52e4e68_ea50_11e9_be46_186024bd7ae7row2_col8 {\n",
       "            background-color:  #3b4cc0;\n",
       "            color:  #f1f1f1;\n",
       "        }    #T_a52e4e68_ea50_11e9_be46_186024bd7ae7row2_col9 {\n",
       "            background-color:  #5977e3;\n",
       "            color:  #000000;\n",
       "        }    #T_a52e4e68_ea50_11e9_be46_186024bd7ae7row3_col0 {\n",
       "            background-color:  #7093f3;\n",
       "            color:  #000000;\n",
       "        }    #T_a52e4e68_ea50_11e9_be46_186024bd7ae7row3_col1 {\n",
       "            background-color:  #85a8fc;\n",
       "            color:  #000000;\n",
       "        }    #T_a52e4e68_ea50_11e9_be46_186024bd7ae7row3_col2 {\n",
       "            background-color:  #efcebd;\n",
       "            color:  #000000;\n",
       "        }    #T_a52e4e68_ea50_11e9_be46_186024bd7ae7row3_col3 {\n",
       "            background-color:  #b40426;\n",
       "            color:  #f1f1f1;\n",
       "        }    #T_a52e4e68_ea50_11e9_be46_186024bd7ae7row3_col4 {\n",
       "            background-color:  #98b9ff;\n",
       "            color:  #000000;\n",
       "        }    #T_a52e4e68_ea50_11e9_be46_186024bd7ae7row3_col5 {\n",
       "            background-color:  #3b4cc0;\n",
       "            color:  #f1f1f1;\n",
       "        }    #T_a52e4e68_ea50_11e9_be46_186024bd7ae7row3_col6 {\n",
       "            background-color:  #3f53c6;\n",
       "            color:  #f1f1f1;\n",
       "        }    #T_a52e4e68_ea50_11e9_be46_186024bd7ae7row3_col7 {\n",
       "            background-color:  #3b4cc0;\n",
       "            color:  #f1f1f1;\n",
       "        }    #T_a52e4e68_ea50_11e9_be46_186024bd7ae7row3_col8 {\n",
       "            background-color:  #8caffe;\n",
       "            color:  #000000;\n",
       "        }    #T_a52e4e68_ea50_11e9_be46_186024bd7ae7row3_col9 {\n",
       "            background-color:  #6c8ff1;\n",
       "            color:  #000000;\n",
       "        }    #T_a52e4e68_ea50_11e9_be46_186024bd7ae7row4_col0 {\n",
       "            background-color:  #5470de;\n",
       "            color:  #000000;\n",
       "        }    #T_a52e4e68_ea50_11e9_be46_186024bd7ae7row4_col1 {\n",
       "            background-color:  #b2ccfb;\n",
       "            color:  #000000;\n",
       "        }    #T_a52e4e68_ea50_11e9_be46_186024bd7ae7row4_col2 {\n",
       "            background-color:  #bcd2f7;\n",
       "            color:  #000000;\n",
       "        }    #T_a52e4e68_ea50_11e9_be46_186024bd7ae7row4_col3 {\n",
       "            background-color:  #d7dce3;\n",
       "            color:  #000000;\n",
       "        }    #T_a52e4e68_ea50_11e9_be46_186024bd7ae7row4_col4 {\n",
       "            background-color:  #b40426;\n",
       "            color:  #f1f1f1;\n",
       "        }    #T_a52e4e68_ea50_11e9_be46_186024bd7ae7row4_col5 {\n",
       "            background-color:  #a6c4fe;\n",
       "            color:  #000000;\n",
       "        }    #T_a52e4e68_ea50_11e9_be46_186024bd7ae7row4_col6 {\n",
       "            background-color:  #abc8fd;\n",
       "            color:  #000000;\n",
       "        }    #T_a52e4e68_ea50_11e9_be46_186024bd7ae7row4_col7 {\n",
       "            background-color:  #94b6ff;\n",
       "            color:  #000000;\n",
       "        }    #T_a52e4e68_ea50_11e9_be46_186024bd7ae7row4_col8 {\n",
       "            background-color:  #85a8fc;\n",
       "            color:  #000000;\n",
       "        }    #T_a52e4e68_ea50_11e9_be46_186024bd7ae7row4_col9 {\n",
       "            background-color:  #5f7fe8;\n",
       "            color:  #000000;\n",
       "        }    #T_a52e4e68_ea50_11e9_be46_186024bd7ae7row5_col0 {\n",
       "            background-color:  #5a78e4;\n",
       "            color:  #000000;\n",
       "        }    #T_a52e4e68_ea50_11e9_be46_186024bd7ae7row5_col1 {\n",
       "            background-color:  #bad0f8;\n",
       "            color:  #000000;\n",
       "        }    #T_a52e4e68_ea50_11e9_be46_186024bd7ae7row5_col2 {\n",
       "            background-color:  #a7c5fe;\n",
       "            color:  #000000;\n",
       "        }    #T_a52e4e68_ea50_11e9_be46_186024bd7ae7row5_col3 {\n",
       "            background-color:  #3f53c6;\n",
       "            color:  #f1f1f1;\n",
       "        }    #T_a52e4e68_ea50_11e9_be46_186024bd7ae7row5_col4 {\n",
       "            background-color:  #5572df;\n",
       "            color:  #000000;\n",
       "        }    #T_a52e4e68_ea50_11e9_be46_186024bd7ae7row5_col5 {\n",
       "            background-color:  #b40426;\n",
       "            color:  #f1f1f1;\n",
       "        }    #T_a52e4e68_ea50_11e9_be46_186024bd7ae7row5_col6 {\n",
       "            background-color:  #c9d7f0;\n",
       "            color:  #000000;\n",
       "        }    #T_a52e4e68_ea50_11e9_be46_186024bd7ae7row5_col7 {\n",
       "            background-color:  #f7af91;\n",
       "            color:  #000000;\n",
       "        }    #T_a52e4e68_ea50_11e9_be46_186024bd7ae7row5_col8 {\n",
       "            background-color:  #779af7;\n",
       "            color:  #000000;\n",
       "        }    #T_a52e4e68_ea50_11e9_be46_186024bd7ae7row5_col9 {\n",
       "            background-color:  #3b4cc0;\n",
       "            color:  #f1f1f1;\n",
       "        }    #T_a52e4e68_ea50_11e9_be46_186024bd7ae7row6_col0 {\n",
       "            background-color:  #6c8ff1;\n",
       "            color:  #000000;\n",
       "        }    #T_a52e4e68_ea50_11e9_be46_186024bd7ae7row6_col1 {\n",
       "            background-color:  #f5c4ac;\n",
       "            color:  #000000;\n",
       "        }    #T_a52e4e68_ea50_11e9_be46_186024bd7ae7row6_col2 {\n",
       "            background-color:  #5470de;\n",
       "            color:  #000000;\n",
       "        }    #T_a52e4e68_ea50_11e9_be46_186024bd7ae7row6_col3 {\n",
       "            background-color:  #5a78e4;\n",
       "            color:  #000000;\n",
       "        }    #T_a52e4e68_ea50_11e9_be46_186024bd7ae7row6_col4 {\n",
       "            background-color:  #7295f4;\n",
       "            color:  #000000;\n",
       "        }    #T_a52e4e68_ea50_11e9_be46_186024bd7ae7row6_col5 {\n",
       "            background-color:  #d4dbe6;\n",
       "            color:  #000000;\n",
       "        }    #T_a52e4e68_ea50_11e9_be46_186024bd7ae7row6_col6 {\n",
       "            background-color:  #b40426;\n",
       "            color:  #f1f1f1;\n",
       "        }    #T_a52e4e68_ea50_11e9_be46_186024bd7ae7row6_col7 {\n",
       "            background-color:  #ead4c8;\n",
       "            color:  #000000;\n",
       "        }    #T_a52e4e68_ea50_11e9_be46_186024bd7ae7row6_col8 {\n",
       "            background-color:  #cedaeb;\n",
       "            color:  #000000;\n",
       "        }    #T_a52e4e68_ea50_11e9_be46_186024bd7ae7row6_col9 {\n",
       "            background-color:  #7da0f9;\n",
       "            color:  #000000;\n",
       "        }    #T_a52e4e68_ea50_11e9_be46_186024bd7ae7row7_col0 {\n",
       "            background-color:  #3b4cc0;\n",
       "            color:  #f1f1f1;\n",
       "        }    #T_a52e4e68_ea50_11e9_be46_186024bd7ae7row7_col1 {\n",
       "            background-color:  #d6dce4;\n",
       "            color:  #000000;\n",
       "        }    #T_a52e4e68_ea50_11e9_be46_186024bd7ae7row7_col2 {\n",
       "            background-color:  #7ea1fa;\n",
       "            color:  #000000;\n",
       "        }    #T_a52e4e68_ea50_11e9_be46_186024bd7ae7row7_col3 {\n",
       "            background-color:  #3b4cc0;\n",
       "            color:  #f1f1f1;\n",
       "        }    #T_a52e4e68_ea50_11e9_be46_186024bd7ae7row7_col4 {\n",
       "            background-color:  #3b4cc0;\n",
       "            color:  #f1f1f1;\n",
       "        }    #T_a52e4e68_ea50_11e9_be46_186024bd7ae7row7_col5 {\n",
       "            background-color:  #f7b194;\n",
       "            color:  #000000;\n",
       "        }    #T_a52e4e68_ea50_11e9_be46_186024bd7ae7row7_col6 {\n",
       "            background-color:  #e0dbd8;\n",
       "            color:  #000000;\n",
       "        }    #T_a52e4e68_ea50_11e9_be46_186024bd7ae7row7_col7 {\n",
       "            background-color:  #b40426;\n",
       "            color:  #f1f1f1;\n",
       "        }    #T_a52e4e68_ea50_11e9_be46_186024bd7ae7row7_col8 {\n",
       "            background-color:  #97b8ff;\n",
       "            color:  #000000;\n",
       "        }    #T_a52e4e68_ea50_11e9_be46_186024bd7ae7row7_col9 {\n",
       "            background-color:  #5e7de7;\n",
       "            color:  #000000;\n",
       "        }    #T_a52e4e68_ea50_11e9_be46_186024bd7ae7row8_col0 {\n",
       "            background-color:  #6c8ff1;\n",
       "            color:  #000000;\n",
       "        }    #T_a52e4e68_ea50_11e9_be46_186024bd7ae7row8_col1 {\n",
       "            background-color:  #d9dce1;\n",
       "            color:  #000000;\n",
       "        }    #T_a52e4e68_ea50_11e9_be46_186024bd7ae7row8_col2 {\n",
       "            background-color:  #6788ee;\n",
       "            color:  #000000;\n",
       "        }    #T_a52e4e68_ea50_11e9_be46_186024bd7ae7row8_col3 {\n",
       "            background-color:  #b3cdfb;\n",
       "            color:  #000000;\n",
       "        }    #T_a52e4e68_ea50_11e9_be46_186024bd7ae7row8_col4 {\n",
       "            background-color:  #5977e3;\n",
       "            color:  #000000;\n",
       "        }    #T_a52e4e68_ea50_11e9_be46_186024bd7ae7row8_col5 {\n",
       "            background-color:  #9ebeff;\n",
       "            color:  #000000;\n",
       "        }    #T_a52e4e68_ea50_11e9_be46_186024bd7ae7row8_col6 {\n",
       "            background-color:  #d8dce2;\n",
       "            color:  #000000;\n",
       "        }    #T_a52e4e68_ea50_11e9_be46_186024bd7ae7row8_col7 {\n",
       "            background-color:  #bbd1f8;\n",
       "            color:  #000000;\n",
       "        }    #T_a52e4e68_ea50_11e9_be46_186024bd7ae7row8_col8 {\n",
       "            background-color:  #b40426;\n",
       "            color:  #f1f1f1;\n",
       "        }    #T_a52e4e68_ea50_11e9_be46_186024bd7ae7row8_col9 {\n",
       "            background-color:  #5977e3;\n",
       "            color:  #000000;\n",
       "        }    #T_a52e4e68_ea50_11e9_be46_186024bd7ae7row9_col0 {\n",
       "            background-color:  #6e90f2;\n",
       "            color:  #000000;\n",
       "        }    #T_a52e4e68_ea50_11e9_be46_186024bd7ae7row9_col1 {\n",
       "            background-color:  #b9d0f9;\n",
       "            color:  #000000;\n",
       "        }    #T_a52e4e68_ea50_11e9_be46_186024bd7ae7row9_col2 {\n",
       "            background-color:  #aec9fc;\n",
       "            color:  #000000;\n",
       "        }    #T_a52e4e68_ea50_11e9_be46_186024bd7ae7row9_col3 {\n",
       "            background-color:  #bed2f6;\n",
       "            color:  #000000;\n",
       "        }    #T_a52e4e68_ea50_11e9_be46_186024bd7ae7row9_col4 {\n",
       "            background-color:  #6384eb;\n",
       "            color:  #000000;\n",
       "        }    #T_a52e4e68_ea50_11e9_be46_186024bd7ae7row9_col5 {\n",
       "            background-color:  #93b5fe;\n",
       "            color:  #000000;\n",
       "        }    #T_a52e4e68_ea50_11e9_be46_186024bd7ae7row9_col6 {\n",
       "            background-color:  #b7cff9;\n",
       "            color:  #000000;\n",
       "        }    #T_a52e4e68_ea50_11e9_be46_186024bd7ae7row9_col7 {\n",
       "            background-color:  #b3cdfb;\n",
       "            color:  #000000;\n",
       "        }    #T_a52e4e68_ea50_11e9_be46_186024bd7ae7row9_col8 {\n",
       "            background-color:  #89acfd;\n",
       "            color:  #000000;\n",
       "        }    #T_a52e4e68_ea50_11e9_be46_186024bd7ae7row9_col9 {\n",
       "            background-color:  #b40426;\n",
       "            color:  #f1f1f1;\n",
       "        }</style><table id=\"T_a52e4e68_ea50_11e9_be46_186024bd7ae7\" ><thead>    <tr>        <th class=\"blank level0\" ></th>        <th class=\"col_heading level0 col0\" >Name</th>        <th class=\"col_heading level0 col1\" >From</th>        <th class=\"col_heading level0 col2\" >To</th>        <th class=\"col_heading level0 col3\" >Stops</th>        <th class=\"col_heading level0 col4\" >Extra Services</th>        <th class=\"col_heading level0 col5\" >Price</th>        <th class=\"col_heading level0 col6\" >Encoded Route</th>        <th class=\"col_heading level0 col7\" >Duration</th>        <th class=\"col_heading level0 col8\" >Month</th>        <th class=\"col_heading level0 col9\" >Day</th>    </tr></thead><tbody>\n",
       "                <tr>\n",
       "                        <th id=\"T_a52e4e68_ea50_11e9_be46_186024bd7ae7level0_row0\" class=\"row_heading level0 row0\" >Name</th>\n",
       "                        <td id=\"T_a52e4e68_ea50_11e9_be46_186024bd7ae7row0_col0\" class=\"data row0 col0\" >1</td>\n",
       "                        <td id=\"T_a52e4e68_ea50_11e9_be46_186024bd7ae7row0_col1\" class=\"data row0 col1\" >-0.013397</td>\n",
       "                        <td id=\"T_a52e4e68_ea50_11e9_be46_186024bd7ae7row0_col2\" class=\"data row0 col2\" >0.0184457</td>\n",
       "                        <td id=\"T_a52e4e68_ea50_11e9_be46_186024bd7ae7row0_col3\" class=\"data row0 col3\" >0.0359727</td>\n",
       "                        <td id=\"T_a52e4e68_ea50_11e9_be46_186024bd7ae7row0_col4\" class=\"data row0 col4\" >-0.0607477</td>\n",
       "                        <td id=\"T_a52e4e68_ea50_11e9_be46_186024bd7ae7row0_col5\" class=\"data row0 col5\" >-0.0395648</td>\n",
       "                        <td id=\"T_a52e4e68_ea50_11e9_be46_186024bd7ae7row0_col6\" class=\"data row0 col6\" >0.0252143</td>\n",
       "                        <td id=\"T_a52e4e68_ea50_11e9_be46_186024bd7ae7row0_col7\" class=\"data row0 col7\" >-0.159651</td>\n",
       "                        <td id=\"T_a52e4e68_ea50_11e9_be46_186024bd7ae7row0_col8\" class=\"data row0 col8\" >0.0246742</td>\n",
       "                        <td id=\"T_a52e4e68_ea50_11e9_be46_186024bd7ae7row0_col9\" class=\"data row0 col9\" >0.0261368</td>\n",
       "            </tr>\n",
       "            <tr>\n",
       "                        <th id=\"T_a52e4e68_ea50_11e9_be46_186024bd7ae7level0_row1\" class=\"row_heading level0 row1\" >From</th>\n",
       "                        <td id=\"T_a52e4e68_ea50_11e9_be46_186024bd7ae7row1_col0\" class=\"data row1 col0\" >-0.013397</td>\n",
       "                        <td id=\"T_a52e4e68_ea50_11e9_be46_186024bd7ae7row1_col1\" class=\"data row1 col1\" >1</td>\n",
       "                        <td id=\"T_a52e4e68_ea50_11e9_be46_186024bd7ae7row1_col2\" class=\"data row1 col2\" >-0.592576</td>\n",
       "                        <td id=\"T_a52e4e68_ea50_11e9_be46_186024bd7ae7row1_col3\" class=\"data row1 col3\" >-0.225605</td>\n",
       "                        <td id=\"T_a52e4e68_ea50_11e9_be46_186024bd7ae7row1_col4\" class=\"data row1 col4\" >-0.0221088</td>\n",
       "                        <td id=\"T_a52e4e68_ea50_11e9_be46_186024bd7ae7row1_col5\" class=\"data row1 col5\" >0.0159992</td>\n",
       "                        <td id=\"T_a52e4e68_ea50_11e9_be46_186024bd7ae7row1_col6\" class=\"data row1 col6\" >0.403412</td>\n",
       "                        <td id=\"T_a52e4e68_ea50_11e9_be46_186024bd7ae7row1_col7\" class=\"data row1 col7\" >0.161886</td>\n",
       "                        <td id=\"T_a52e4e68_ea50_11e9_be46_186024bd7ae7row1_col8\" class=\"data row1 col8\" >0.183268</td>\n",
       "                        <td id=\"T_a52e4e68_ea50_11e9_be46_186024bd7ae7row1_col9\" class=\"data row1 col9\" >0.00490164</td>\n",
       "            </tr>\n",
       "            <tr>\n",
       "                        <th id=\"T_a52e4e68_ea50_11e9_be46_186024bd7ae7level0_row2\" class=\"row_heading level0 row2\" >To</th>\n",
       "                        <td id=\"T_a52e4e68_ea50_11e9_be46_186024bd7ae7row2_col0\" class=\"data row2 col0\" >0.0184457</td>\n",
       "                        <td id=\"T_a52e4e68_ea50_11e9_be46_186024bd7ae7row2_col1\" class=\"data row2 col1\" >-0.592576</td>\n",
       "                        <td id=\"T_a52e4e68_ea50_11e9_be46_186024bd7ae7row2_col2\" class=\"data row2 col2\" >1</td>\n",
       "                        <td id=\"T_a52e4e68_ea50_11e9_be46_186024bd7ae7row2_col3\" class=\"data row2 col3\" >0.337872</td>\n",
       "                        <td id=\"T_a52e4e68_ea50_11e9_be46_186024bd7ae7row2_col4\" class=\"data row2 col4\" >0.0268207</td>\n",
       "                        <td id=\"T_a52e4e68_ea50_11e9_be46_186024bd7ae7row2_col5\" class=\"data row2 col5\" >-0.0711225</td>\n",
       "                        <td id=\"T_a52e4e68_ea50_11e9_be46_186024bd7ae7row2_col6\" class=\"data row2 col6\" >-0.461176</td>\n",
       "                        <td id=\"T_a52e4e68_ea50_11e9_be46_186024bd7ae7row2_col7\" class=\"data row2 col7\" >-0.257352</td>\n",
       "                        <td id=\"T_a52e4e68_ea50_11e9_be46_186024bd7ae7row2_col8\" class=\"data row2 col8\" >-0.364682</td>\n",
       "                        <td id=\"T_a52e4e68_ea50_11e9_be46_186024bd7ae7row2_col9\" class=\"data row2 col9\" >-0.0410245</td>\n",
       "            </tr>\n",
       "            <tr>\n",
       "                        <th id=\"T_a52e4e68_ea50_11e9_be46_186024bd7ae7level0_row3\" class=\"row_heading level0 row3\" >Stops</th>\n",
       "                        <td id=\"T_a52e4e68_ea50_11e9_be46_186024bd7ae7row3_col0\" class=\"data row3 col0\" >0.0359727</td>\n",
       "                        <td id=\"T_a52e4e68_ea50_11e9_be46_186024bd7ae7row3_col1\" class=\"data row3 col1\" >-0.225605</td>\n",
       "                        <td id=\"T_a52e4e68_ea50_11e9_be46_186024bd7ae7row3_col2\" class=\"data row3 col2\" >0.337872</td>\n",
       "                        <td id=\"T_a52e4e68_ea50_11e9_be46_186024bd7ae7row3_col3\" class=\"data row3 col3\" >1</td>\n",
       "                        <td id=\"T_a52e4e68_ea50_11e9_be46_186024bd7ae7row3_col4\" class=\"data row3 col4\" >0.164054</td>\n",
       "                        <td id=\"T_a52e4e68_ea50_11e9_be46_186024bd7ae7row3_col5\" class=\"data row3 col5\" >-0.571221</td>\n",
       "                        <td id=\"T_a52e4e68_ea50_11e9_be46_186024bd7ae7row3_col6\" class=\"data row3 col6\" >-0.437749</td>\n",
       "                        <td id=\"T_a52e4e68_ea50_11e9_be46_186024bd7ae7row3_col7\" class=\"data row3 col7\" >-0.602282</td>\n",
       "                        <td id=\"T_a52e4e68_ea50_11e9_be46_186024bd7ae7row3_col8\" class=\"data row3 col8\" >-0.0263284</td>\n",
       "                        <td id=\"T_a52e4e68_ea50_11e9_be46_186024bd7ae7row3_col9\" class=\"data row3 col9\" >0.0292249</td>\n",
       "            </tr>\n",
       "            <tr>\n",
       "                        <th id=\"T_a52e4e68_ea50_11e9_be46_186024bd7ae7level0_row4\" class=\"row_heading level0 row4\" >Extra Services</th>\n",
       "                        <td id=\"T_a52e4e68_ea50_11e9_be46_186024bd7ae7row4_col0\" class=\"data row4 col0\" >-0.0607477</td>\n",
       "                        <td id=\"T_a52e4e68_ea50_11e9_be46_186024bd7ae7row4_col1\" class=\"data row4 col1\" >-0.0221088</td>\n",
       "                        <td id=\"T_a52e4e68_ea50_11e9_be46_186024bd7ae7row4_col2\" class=\"data row4 col2\" >0.0268207</td>\n",
       "                        <td id=\"T_a52e4e68_ea50_11e9_be46_186024bd7ae7row4_col3\" class=\"data row4 col3\" >0.164054</td>\n",
       "                        <td id=\"T_a52e4e68_ea50_11e9_be46_186024bd7ae7row4_col4\" class=\"data row4 col4\" >1</td>\n",
       "                        <td id=\"T_a52e4e68_ea50_11e9_be46_186024bd7ae7row4_col5\" class=\"data row4 col5\" >-0.0654625</td>\n",
       "                        <td id=\"T_a52e4e68_ea50_11e9_be46_186024bd7ae7row4_col6\" class=\"data row4 col6\" >0.0351522</td>\n",
       "                        <td id=\"T_a52e4e68_ea50_11e9_be46_186024bd7ae7row4_col7\" class=\"data row4 col7\" >-0.16787</td>\n",
       "                        <td id=\"T_a52e4e68_ea50_11e9_be46_186024bd7ae7row4_col8\" class=\"data row4 col8\" >-0.0514907</td>\n",
       "                        <td id=\"T_a52e4e68_ea50_11e9_be46_186024bd7ae7row4_col9\" class=\"data row4 col9\" >-0.0162961</td>\n",
       "            </tr>\n",
       "            <tr>\n",
       "                        <th id=\"T_a52e4e68_ea50_11e9_be46_186024bd7ae7level0_row5\" class=\"row_heading level0 row5\" >Price</th>\n",
       "                        <td id=\"T_a52e4e68_ea50_11e9_be46_186024bd7ae7row5_col0\" class=\"data row5 col0\" >-0.0395648</td>\n",
       "                        <td id=\"T_a52e4e68_ea50_11e9_be46_186024bd7ae7row5_col1\" class=\"data row5 col1\" >0.0159992</td>\n",
       "                        <td id=\"T_a52e4e68_ea50_11e9_be46_186024bd7ae7row5_col2\" class=\"data row5 col2\" >-0.0711225</td>\n",
       "                        <td id=\"T_a52e4e68_ea50_11e9_be46_186024bd7ae7row5_col3\" class=\"data row5 col3\" >-0.571221</td>\n",
       "                        <td id=\"T_a52e4e68_ea50_11e9_be46_186024bd7ae7row5_col4\" class=\"data row5 col4\" >-0.0654625</td>\n",
       "                        <td id=\"T_a52e4e68_ea50_11e9_be46_186024bd7ae7row5_col5\" class=\"data row5 col5\" >1</td>\n",
       "                        <td id=\"T_a52e4e68_ea50_11e9_be46_186024bd7ae7row5_col6\" class=\"data row5 col6\" >0.164149</td>\n",
       "                        <td id=\"T_a52e4e68_ea50_11e9_be46_186024bd7ae7row5_col7\" class=\"data row5 col7\" >0.50648</td>\n",
       "                        <td id=\"T_a52e4e68_ea50_11e9_be46_186024bd7ae7row5_col8\" class=\"data row5 col8\" >-0.103643</td>\n",
       "                        <td id=\"T_a52e4e68_ea50_11e9_be46_186024bd7ae7row5_col9\" class=\"data row5 col9\" >-0.153774</td>\n",
       "            </tr>\n",
       "            <tr>\n",
       "                        <th id=\"T_a52e4e68_ea50_11e9_be46_186024bd7ae7level0_row6\" class=\"row_heading level0 row6\" >Encoded Route</th>\n",
       "                        <td id=\"T_a52e4e68_ea50_11e9_be46_186024bd7ae7row6_col0\" class=\"data row6 col0\" >0.0252143</td>\n",
       "                        <td id=\"T_a52e4e68_ea50_11e9_be46_186024bd7ae7row6_col1\" class=\"data row6 col1\" >0.403412</td>\n",
       "                        <td id=\"T_a52e4e68_ea50_11e9_be46_186024bd7ae7row6_col2\" class=\"data row6 col2\" >-0.461176</td>\n",
       "                        <td id=\"T_a52e4e68_ea50_11e9_be46_186024bd7ae7row6_col3\" class=\"data row6 col3\" >-0.437749</td>\n",
       "                        <td id=\"T_a52e4e68_ea50_11e9_be46_186024bd7ae7row6_col4\" class=\"data row6 col4\" >0.0351522</td>\n",
       "                        <td id=\"T_a52e4e68_ea50_11e9_be46_186024bd7ae7row6_col5\" class=\"data row6 col5\" >0.164149</td>\n",
       "                        <td id=\"T_a52e4e68_ea50_11e9_be46_186024bd7ae7row6_col6\" class=\"data row6 col6\" >1</td>\n",
       "                        <td id=\"T_a52e4e68_ea50_11e9_be46_186024bd7ae7row6_col7\" class=\"data row6 col7\" >0.288773</td>\n",
       "                        <td id=\"T_a52e4e68_ea50_11e9_be46_186024bd7ae7row6_col8\" class=\"data row6 col8\" >0.244186</td>\n",
       "                        <td id=\"T_a52e4e68_ea50_11e9_be46_186024bd7ae7row6_col9\" class=\"data row6 col9\" >0.0816317</td>\n",
       "            </tr>\n",
       "            <tr>\n",
       "                        <th id=\"T_a52e4e68_ea50_11e9_be46_186024bd7ae7level0_row7\" class=\"row_heading level0 row7\" >Duration</th>\n",
       "                        <td id=\"T_a52e4e68_ea50_11e9_be46_186024bd7ae7row7_col0\" class=\"data row7 col0\" >-0.159651</td>\n",
       "                        <td id=\"T_a52e4e68_ea50_11e9_be46_186024bd7ae7row7_col1\" class=\"data row7 col1\" >0.161886</td>\n",
       "                        <td id=\"T_a52e4e68_ea50_11e9_be46_186024bd7ae7row7_col2\" class=\"data row7 col2\" >-0.257352</td>\n",
       "                        <td id=\"T_a52e4e68_ea50_11e9_be46_186024bd7ae7row7_col3\" class=\"data row7 col3\" >-0.602282</td>\n",
       "                        <td id=\"T_a52e4e68_ea50_11e9_be46_186024bd7ae7row7_col4\" class=\"data row7 col4\" >-0.16787</td>\n",
       "                        <td id=\"T_a52e4e68_ea50_11e9_be46_186024bd7ae7row7_col5\" class=\"data row7 col5\" >0.50648</td>\n",
       "                        <td id=\"T_a52e4e68_ea50_11e9_be46_186024bd7ae7row7_col6\" class=\"data row7 col6\" >0.288773</td>\n",
       "                        <td id=\"T_a52e4e68_ea50_11e9_be46_186024bd7ae7row7_col7\" class=\"data row7 col7\" >1</td>\n",
       "                        <td id=\"T_a52e4e68_ea50_11e9_be46_186024bd7ae7row7_col8\" class=\"data row7 col8\" >0.014836</td>\n",
       "                        <td id=\"T_a52e4e68_ea50_11e9_be46_186024bd7ae7row7_col9\" class=\"data row7 col9\" >-0.0224387</td>\n",
       "            </tr>\n",
       "            <tr>\n",
       "                        <th id=\"T_a52e4e68_ea50_11e9_be46_186024bd7ae7level0_row8\" class=\"row_heading level0 row8\" >Month</th>\n",
       "                        <td id=\"T_a52e4e68_ea50_11e9_be46_186024bd7ae7row8_col0\" class=\"data row8 col0\" >0.0246742</td>\n",
       "                        <td id=\"T_a52e4e68_ea50_11e9_be46_186024bd7ae7row8_col1\" class=\"data row8 col1\" >0.183268</td>\n",
       "                        <td id=\"T_a52e4e68_ea50_11e9_be46_186024bd7ae7row8_col2\" class=\"data row8 col2\" >-0.364682</td>\n",
       "                        <td id=\"T_a52e4e68_ea50_11e9_be46_186024bd7ae7row8_col3\" class=\"data row8 col3\" >-0.0263284</td>\n",
       "                        <td id=\"T_a52e4e68_ea50_11e9_be46_186024bd7ae7row8_col4\" class=\"data row8 col4\" >-0.0514907</td>\n",
       "                        <td id=\"T_a52e4e68_ea50_11e9_be46_186024bd7ae7row8_col5\" class=\"data row8 col5\" >-0.103643</td>\n",
       "                        <td id=\"T_a52e4e68_ea50_11e9_be46_186024bd7ae7row8_col6\" class=\"data row8 col6\" >0.244186</td>\n",
       "                        <td id=\"T_a52e4e68_ea50_11e9_be46_186024bd7ae7row8_col7\" class=\"data row8 col7\" >0.014836</td>\n",
       "                        <td id=\"T_a52e4e68_ea50_11e9_be46_186024bd7ae7row8_col8\" class=\"data row8 col8\" >1</td>\n",
       "                        <td id=\"T_a52e4e68_ea50_11e9_be46_186024bd7ae7row8_col9\" class=\"data row8 col9\" >-0.0383586</td>\n",
       "            </tr>\n",
       "            <tr>\n",
       "                        <th id=\"T_a52e4e68_ea50_11e9_be46_186024bd7ae7level0_row9\" class=\"row_heading level0 row9\" >Day</th>\n",
       "                        <td id=\"T_a52e4e68_ea50_11e9_be46_186024bd7ae7row9_col0\" class=\"data row9 col0\" >0.0261368</td>\n",
       "                        <td id=\"T_a52e4e68_ea50_11e9_be46_186024bd7ae7row9_col1\" class=\"data row9 col1\" >0.00490164</td>\n",
       "                        <td id=\"T_a52e4e68_ea50_11e9_be46_186024bd7ae7row9_col2\" class=\"data row9 col2\" >-0.0410245</td>\n",
       "                        <td id=\"T_a52e4e68_ea50_11e9_be46_186024bd7ae7row9_col3\" class=\"data row9 col3\" >0.0292249</td>\n",
       "                        <td id=\"T_a52e4e68_ea50_11e9_be46_186024bd7ae7row9_col4\" class=\"data row9 col4\" >-0.0162961</td>\n",
       "                        <td id=\"T_a52e4e68_ea50_11e9_be46_186024bd7ae7row9_col5\" class=\"data row9 col5\" >-0.153774</td>\n",
       "                        <td id=\"T_a52e4e68_ea50_11e9_be46_186024bd7ae7row9_col6\" class=\"data row9 col6\" >0.0816317</td>\n",
       "                        <td id=\"T_a52e4e68_ea50_11e9_be46_186024bd7ae7row9_col7\" class=\"data row9 col7\" >-0.0224387</td>\n",
       "                        <td id=\"T_a52e4e68_ea50_11e9_be46_186024bd7ae7row9_col8\" class=\"data row9 col8\" >-0.0383586</td>\n",
       "                        <td id=\"T_a52e4e68_ea50_11e9_be46_186024bd7ae7row9_col9\" class=\"data row9 col9\" >1</td>\n",
       "            </tr>\n",
       "    </tbody></table>"
      ],
      "text/plain": [
       "<pandas.io.formats.style.Styler at 0x2be73d8cf28>"
      ]
     },
     "execution_count": 23,
     "metadata": {},
     "output_type": "execute_result"
    }
   ],
   "source": [
    "# By Default Pearson's Correlation\n",
    "\n",
    "corr = df.corr()\n",
    "corr.style.background_gradient(cmap='coolwarm')"
   ]
  },
  {
   "cell_type": "code",
   "execution_count": 8,
   "metadata": {},
   "outputs": [
    {
     "data": {
      "text/plain": [
       "(10682, 10)"
      ]
     },
     "execution_count": 8,
     "metadata": {},
     "output_type": "execute_result"
    }
   ],
   "source": [
    "# Shape of Dataset\n",
    "\n",
    "df.shape"
   ]
  },
  {
   "cell_type": "markdown",
   "metadata": {},
   "source": [
    "## <u>Model Bulding - XGBModel</u>"
   ]
  },
  {
   "cell_type": "markdown",
   "metadata": {},
   "source": [
    "#### Separating <i>Regressand</i> and <i>Regressor<i>"
   ]
  },
  {
   "cell_type": "code",
   "execution_count": 25,
   "metadata": {},
   "outputs": [],
   "source": [
    "# Dependent Variables\n",
    "\n",
    "X = df[['Name', 'From', 'To', 'Stops', 'Extra Services', 'Encoded Route', 'Duration', 'Month', 'Day']].values\n",
    "\n",
    "# Independent Variable\n",
    "\n",
    "Y = df['Price'].values"
   ]
  },
  {
   "cell_type": "markdown",
   "metadata": {},
   "source": [
    "#### Scaling and Transforming X "
   ]
  },
  {
   "cell_type": "code",
   "execution_count": 26,
   "metadata": {},
   "outputs": [
    {
     "data": {
      "text/plain": [
       "MinMaxScaler(copy=True, feature_range=(0, 1000))"
      ]
     },
     "execution_count": 26,
     "metadata": {},
     "output_type": "execute_result"
    }
   ],
   "source": [
    "# scaling X in range of 0 to 1000\n",
    "\n",
    "scaler = MinMaxScaler(feature_range=(0,1000))\n",
    "scaler.fit(X)"
   ]
  },
  {
   "cell_type": "code",
   "execution_count": 27,
   "metadata": {},
   "outputs": [],
   "source": [
    "# transforming X\n",
    "\n",
    "X=scaler.transform(X)"
   ]
  },
  {
   "cell_type": "markdown",
   "metadata": {},
   "source": [
    "#### Splitting Dataset into <i>Test</i> and <i>Train</i> Data"
   ]
  },
  {
   "cell_type": "code",
   "execution_count": 37,
   "metadata": {},
   "outputs": [],
   "source": [
    "# Splitting 70% as Train Data & 30% as Test Data\n",
    "\n",
    "X_train, X_test, Y_train, Y_test = train_test_split(X, Y, test_size=0.3, random_state=1)"
   ]
  },
  {
   "cell_type": "code",
   "execution_count": 38,
   "metadata": {},
   "outputs": [
    {
     "data": {
      "text/plain": [
       "array([[ 363.63636364,  500.        ,  200.        , ...,  586.69001751,\n",
       "        1000.        ,   76.92307692],\n",
       "       [ 363.63636364,  500.        ,  200.        , ...,  497.37302977,\n",
       "        1000.        ,   76.92307692],\n",
       "       [ 909.09090909,  750.        ,    0.        , ...,  243.43257443,\n",
       "         666.66666667,  192.30769231],\n",
       "       ...,\n",
       "       [  90.90909091, 1000.        ,  600.        , ...,   26.26970228,\n",
       "         666.66666667,  653.84615385],\n",
       "       [  90.90909091,  750.        ,    0.        , ...,  406.30472855,\n",
       "         666.66666667,  884.61538462],\n",
       "       [ 363.63636364,    0.        ,  400.        , ...,   61.29597198,\n",
       "        1000.        ,  769.23076923]])"
      ]
     },
     "execution_count": 38,
     "metadata": {},
     "output_type": "execute_result"
    }
   ],
   "source": [
    "X_test"
   ]
  },
  {
   "cell_type": "code",
   "execution_count": 13,
   "metadata": {},
   "outputs": [
    {
     "data": {
      "text/plain": [
       "(7477, 9)"
      ]
     },
     "execution_count": 13,
     "metadata": {},
     "output_type": "execute_result"
    }
   ],
   "source": [
    "# train data shape\n",
    "\n",
    "X_train.shape"
   ]
  },
  {
   "cell_type": "code",
   "execution_count": 14,
   "metadata": {},
   "outputs": [
    {
     "data": {
      "text/plain": [
       "(3205, 9)"
      ]
     },
     "execution_count": 14,
     "metadata": {},
     "output_type": "execute_result"
    }
   ],
   "source": [
    "# test data shape\n",
    "\n",
    "X_test.shape"
   ]
  },
  {
   "cell_type": "code",
   "execution_count": 15,
   "metadata": {},
   "outputs": [
    {
     "data": {
      "text/plain": [
       "(10682, 10)"
      ]
     },
     "execution_count": 15,
     "metadata": {},
     "output_type": "execute_result"
    }
   ],
   "source": [
    "# dataset shape\n",
    "\n",
    "df.shape"
   ]
  },
  {
   "cell_type": "code",
   "execution_count": 16,
   "metadata": {},
   "outputs": [
    {
     "data": {
      "text/plain": [
       "(7477,)"
      ]
     },
     "execution_count": 16,
     "metadata": {},
     "output_type": "execute_result"
    }
   ],
   "source": [
    "# target training variable shape\n",
    "\n",
    "Y_train.shape"
   ]
  },
  {
   "cell_type": "code",
   "execution_count": 17,
   "metadata": {},
   "outputs": [
    {
     "data": {
      "text/plain": [
       "(3205,)"
      ]
     },
     "execution_count": 17,
     "metadata": {},
     "output_type": "execute_result"
    }
   ],
   "source": [
    "# target test variable shape\n",
    "\n",
    "Y_test.shape"
   ]
  },
  {
   "cell_type": "markdown",
   "metadata": {},
   "source": [
    "#### Fitting Data into Model"
   ]
  },
  {
   "cell_type": "code",
   "execution_count": 29,
   "metadata": {},
   "outputs": [],
   "source": [
    "# XGB Model\n",
    "\n",
    "xgb = xgboost.XGBRegressor(n_estimators=325, learning_rate=0.4, gamma=0, subsample=0.89,colsample_bytree=1, max_depth=6)"
   ]
  },
  {
   "cell_type": "code",
   "execution_count": 30,
   "metadata": {},
   "outputs": [
    {
     "name": "stdout",
     "output_type": "stream",
     "text": [
      "[10:23:38] WARNING: C:/Jenkins/workspace/xgboost-win64_release_0.90/src/objective/regression_obj.cu:152: reg:linear is now deprecated in favor of reg:squarederror.\n"
     ]
    },
    {
     "data": {
      "text/plain": [
       "XGBRegressor(base_score=0.5, booster='gbtree', colsample_bylevel=1,\n",
       "             colsample_bynode=1, colsample_bytree=1, gamma=0,\n",
       "             importance_type='gain', learning_rate=0.4, max_delta_step=0,\n",
       "             max_depth=6, min_child_weight=1, missing=None, n_estimators=325,\n",
       "             n_jobs=1, nthread=None, objective='reg:linear', random_state=0,\n",
       "             reg_alpha=0, reg_lambda=1, scale_pos_weight=1, seed=None,\n",
       "             silent=None, subsample=0.89, verbosity=1)"
      ]
     },
     "execution_count": 30,
     "metadata": {},
     "output_type": "execute_result"
    }
   ],
   "source": [
    "# Fitting data in model\n",
    "\n",
    "xgb.fit(X_train,Y_train)"
   ]
  },
  {
   "cell_type": "markdown",
   "metadata": {},
   "source": [
    "#### Model Prediction"
   ]
  },
  {
   "cell_type": "code",
   "execution_count": 31,
   "metadata": {},
   "outputs": [],
   "source": [
    "# prediction by model\n",
    "\n",
    "Y_predicted = xgb.predict(X_test)"
   ]
  },
  {
   "cell_type": "code",
   "execution_count": 35,
   "metadata": {},
   "outputs": [
    {
     "data": {
      "text/html": [
       "<div>\n",
       "<style scoped>\n",
       "    .dataframe tbody tr th:only-of-type {\n",
       "        vertical-align: middle;\n",
       "    }\n",
       "\n",
       "    .dataframe tbody tr th {\n",
       "        vertical-align: top;\n",
       "    }\n",
       "\n",
       "    .dataframe thead th {\n",
       "        text-align: right;\n",
       "    }\n",
       "</style>\n",
       "<table border=\"1\" class=\"dataframe\">\n",
       "  <thead>\n",
       "    <tr style=\"text-align: right;\">\n",
       "      <th></th>\n",
       "      <th>Original</th>\n",
       "      <th>Predicted</th>\n",
       "    </tr>\n",
       "  </thead>\n",
       "  <tbody>\n",
       "    <tr>\n",
       "      <th>3195</th>\n",
       "      <td>8040</td>\n",
       "      <td>5359.263672</td>\n",
       "    </tr>\n",
       "    <tr>\n",
       "      <th>3196</th>\n",
       "      <td>10262</td>\n",
       "      <td>10199.585938</td>\n",
       "    </tr>\n",
       "    <tr>\n",
       "      <th>3197</th>\n",
       "      <td>14781</td>\n",
       "      <td>14494.036133</td>\n",
       "    </tr>\n",
       "    <tr>\n",
       "      <th>3198</th>\n",
       "      <td>5228</td>\n",
       "      <td>5816.035156</td>\n",
       "    </tr>\n",
       "    <tr>\n",
       "      <th>3199</th>\n",
       "      <td>3943</td>\n",
       "      <td>4681.984863</td>\n",
       "    </tr>\n",
       "    <tr>\n",
       "      <th>3200</th>\n",
       "      <td>4804</td>\n",
       "      <td>4912.891602</td>\n",
       "    </tr>\n",
       "    <tr>\n",
       "      <th>3201</th>\n",
       "      <td>10262</td>\n",
       "      <td>10229.573242</td>\n",
       "    </tr>\n",
       "    <tr>\n",
       "      <th>3202</th>\n",
       "      <td>3100</td>\n",
       "      <td>3155.749268</td>\n",
       "    </tr>\n",
       "    <tr>\n",
       "      <th>3203</th>\n",
       "      <td>15107</td>\n",
       "      <td>14523.157227</td>\n",
       "    </tr>\n",
       "    <tr>\n",
       "      <th>3204</th>\n",
       "      <td>5769</td>\n",
       "      <td>6749.609863</td>\n",
       "    </tr>\n",
       "  </tbody>\n",
       "</table>\n",
       "</div>"
      ],
      "text/plain": [
       "      Original     Predicted\n",
       "3195      8040   5359.263672\n",
       "3196     10262  10199.585938\n",
       "3197     14781  14494.036133\n",
       "3198      5228   5816.035156\n",
       "3199      3943   4681.984863\n",
       "3200      4804   4912.891602\n",
       "3201     10262  10229.573242\n",
       "3202      3100   3155.749268\n",
       "3203     15107  14523.157227\n",
       "3204      5769   6749.609863"
      ]
     },
     "execution_count": 35,
     "metadata": {},
     "output_type": "execute_result"
    }
   ],
   "source": [
    "# Actual vs Predicted Value\n",
    "\n",
    "test_dataframe = pd.DataFrame({'Original': Y_test, 'Predicted': Y_predicted})\n",
    "test_dataframe.tail(10)"
   ]
  },
  {
   "cell_type": "code",
   "execution_count": 22,
   "metadata": {},
   "outputs": [
    {
     "data": {
      "image/png": "[encoded data removed]",
      "text/plain": [
       "<Figure size 432x288 with 1 Axes>"
      ]
     },
     "metadata": {
      "needs_background": "light"
     },
     "output_type": "display_data"
    }
   ],
   "source": [
    "plt.plot(Y_test)\n",
    "plt.plot(Y_predicted, color='red')\n",
    "plt.show()"
   ]
  },
  {
   "cell_type": "markdown",
   "metadata": {},
   "source": [
    "#### Model Errors"
   ]
  },
  {
   "cell_type": "code",
   "execution_count": 23,
   "metadata": {
    "scrolled": true
   },
   "outputs": [
    {
     "data": {
      "text/plain": [
       "873.4046344441668"
      ]
     },
     "execution_count": 23,
     "metadata": {},
     "output_type": "execute_result"
    }
   ],
   "source": [
    "# Mean Absolute Error\n",
    "\n",
    "metrics.mean_absolute_error(Y_test, Y_predicted)"
   ]
  },
  {
   "cell_type": "code",
   "execution_count": 24,
   "metadata": {},
   "outputs": [
    {
     "data": {
      "text/plain": [
       "4503721.023896603"
      ]
     },
     "execution_count": 24,
     "metadata": {},
     "output_type": "execute_result"
    }
   ],
   "source": [
    "# Mean Sqaured Error\n",
    "\n",
    "metrics.mean_squared_error(Y_test, Y_predicted)"
   ]
  },
  {
   "cell_type": "code",
   "execution_count": 25,
   "metadata": {},
   "outputs": [
    {
     "data": {
      "text/plain": [
       "2122.1972160703167"
      ]
     },
     "execution_count": 25,
     "metadata": {},
     "output_type": "execute_result"
    }
   ],
   "source": [
    "# Root Mean Squared Error\n",
    "\n",
    "np.sqrt(metrics.mean_squared_error(Y_test, Y_predicted))"
   ]
  },
  {
   "cell_type": "markdown",
   "metadata": {},
   "source": [
    "#### Accuracy of Model"
   ]
  },
  {
   "cell_type": "code",
   "execution_count": 36,
   "metadata": {
    "scrolled": true
   },
   "outputs": [
    {
     "name": "stdout",
     "output_type": "stream",
     "text": [
      "79.82134597999493\n"
     ]
    }
   ],
   "source": [
    "accuracy = xgb.score(X_test,Y_test)\n",
    "print(accuracy*100)"
   ]
  },
  {
   "cell_type": "code",
   "execution_count": null,
   "metadata": {},
   "outputs": [],
   "source": []
  },
  {
   "cell_type": "code",
   "execution_count": null,
   "metadata": {},
   "outputs": [],
   "source": []
  },
  {
   "cell_type": "code",
   "execution_count": null,
   "metadata": {},
   "outputs": [],
   "source": []
  },
  {
   "cell_type": "code",
   "execution_count": null,
   "metadata": {},
   "outputs": [],
   "source": []
  },
  {
   "cell_type": "code",
   "execution_count": null,
   "metadata": {},
   "outputs": [],
   "source": []
  },
  {
   "cell_type": "code",
   "execution_count": null,
   "metadata": {},
   "outputs": [],
   "source": []
  },
  {
   "cell_type": "code",
   "execution_count": 4,
   "metadata": {
    "scrolled": false
   },
   "outputs": [
    {
     "data": {
      "text/html": [
       "<div>\n",
       "<style scoped>\n",
       "    .dataframe tbody tr th:only-of-type {\n",
       "        vertical-align: middle;\n",
       "    }\n",
       "\n",
       "    .dataframe tbody tr th {\n",
       "        vertical-align: top;\n",
       "    }\n",
       "\n",
       "    .dataframe thead th {\n",
       "        text-align: right;\n",
       "    }\n",
       "</style>\n",
       "<table border=\"1\" class=\"dataframe\">\n",
       "  <thead>\n",
       "    <tr style=\"text-align: right;\">\n",
       "      <th></th>\n",
       "      <th>Unnamed: 0</th>\n",
       "      <th>Name</th>\n",
       "      <th>From</th>\n",
       "      <th>To</th>\n",
       "      <th>Stops</th>\n",
       "      <th>Extra Services</th>\n",
       "      <th>Price</th>\n",
       "      <th>Encoded Route</th>\n",
       "      <th>Duration</th>\n",
       "      <th>Month</th>\n",
       "      <th>Day</th>\n",
       "    </tr>\n",
       "  </thead>\n",
       "  <tbody>\n",
       "    <tr>\n",
       "      <th>0</th>\n",
       "      <td>0</td>\n",
       "      <td>1</td>\n",
       "      <td>0</td>\n",
       "      <td>5</td>\n",
       "      <td>1</td>\n",
       "      <td>8</td>\n",
       "      <td>17135</td>\n",
       "      <td>3</td>\n",
       "      <td>2345</td>\n",
       "      <td>3</td>\n",
       "      <td>1</td>\n",
       "    </tr>\n",
       "    <tr>\n",
       "      <th>1</th>\n",
       "      <td>1</td>\n",
       "      <td>10</td>\n",
       "      <td>0</td>\n",
       "      <td>5</td>\n",
       "      <td>4</td>\n",
       "      <td>8</td>\n",
       "      <td>21520</td>\n",
       "      <td>18</td>\n",
       "      <td>160</td>\n",
       "      <td>3</td>\n",
       "      <td>1</td>\n",
       "    </tr>\n",
       "    <tr>\n",
       "      <th>2</th>\n",
       "      <td>2</td>\n",
       "      <td>4</td>\n",
       "      <td>0</td>\n",
       "      <td>5</td>\n",
       "      <td>0</td>\n",
       "      <td>8</td>\n",
       "      <td>26890</td>\n",
       "      <td>5</td>\n",
       "      <td>435</td>\n",
       "      <td>3</td>\n",
       "      <td>1</td>\n",
       "    </tr>\n",
       "    <tr>\n",
       "      <th>3</th>\n",
       "      <td>3</td>\n",
       "      <td>1</td>\n",
       "      <td>0</td>\n",
       "      <td>5</td>\n",
       "      <td>0</td>\n",
       "      <td>8</td>\n",
       "      <td>23677</td>\n",
       "      <td>5</td>\n",
       "      <td>330</td>\n",
       "      <td>3</td>\n",
       "      <td>1</td>\n",
       "    </tr>\n",
       "    <tr>\n",
       "      <th>4</th>\n",
       "      <td>4</td>\n",
       "      <td>3</td>\n",
       "      <td>0</td>\n",
       "      <td>5</td>\n",
       "      <td>4</td>\n",
       "      <td>8</td>\n",
       "      <td>11934</td>\n",
       "      <td>18</td>\n",
       "      <td>170</td>\n",
       "      <td>3</td>\n",
       "      <td>1</td>\n",
       "    </tr>\n",
       "  </tbody>\n",
       "</table>\n",
       "</div>"
      ],
      "text/plain": [
       "   Unnamed: 0  Name  From  To  Stops  Extra Services  Price  Encoded Route  \\\n",
       "0           0     1     0   5      1               8  17135              3   \n",
       "1           1    10     0   5      4               8  21520             18   \n",
       "2           2     4     0   5      0               8  26890              5   \n",
       "3           3     1     0   5      0               8  23677              5   \n",
       "4           4     3     0   5      4               8  11934             18   \n",
       "\n",
       "   Duration  Month  Day  \n",
       "0      2345      3    1  \n",
       "1       160      3    1  \n",
       "2       435      3    1  \n",
       "3       330      3    1  \n",
       "4       170      3    1  "
      ]
     },
     "execution_count": 4,
     "metadata": {},
     "output_type": "execute_result"
    }
   ],
   "source": [
    "df = pd.read_excel(\"Again_Preprocessed_Flight_data.xlsx\")\n",
    "df.head()"
   ]
  },
  {
   "cell_type": "code",
   "execution_count": 5,
   "metadata": {},
   "outputs": [
    {
     "data": {
      "text/html": [
       "<div>\n",
       "<style scoped>\n",
       "    .dataframe tbody tr th:only-of-type {\n",
       "        vertical-align: middle;\n",
       "    }\n",
       "\n",
       "    .dataframe tbody tr th {\n",
       "        vertical-align: top;\n",
       "    }\n",
       "\n",
       "    .dataframe thead th {\n",
       "        text-align: right;\n",
       "    }\n",
       "</style>\n",
       "<table border=\"1\" class=\"dataframe\">\n",
       "  <thead>\n",
       "    <tr style=\"text-align: right;\">\n",
       "      <th></th>\n",
       "      <th>Name</th>\n",
       "      <th>From</th>\n",
       "      <th>To</th>\n",
       "      <th>Stops</th>\n",
       "      <th>Extra Services</th>\n",
       "      <th>Price</th>\n",
       "      <th>Encoded Route</th>\n",
       "      <th>Duration</th>\n",
       "      <th>Month</th>\n",
       "      <th>Day</th>\n",
       "    </tr>\n",
       "  </thead>\n",
       "  <tbody>\n",
       "    <tr>\n",
       "      <th>0</th>\n",
       "      <td>1</td>\n",
       "      <td>0</td>\n",
       "      <td>5</td>\n",
       "      <td>1</td>\n",
       "      <td>8</td>\n",
       "      <td>17135</td>\n",
       "      <td>3</td>\n",
       "      <td>2345</td>\n",
       "      <td>3</td>\n",
       "      <td>1</td>\n",
       "    </tr>\n",
       "    <tr>\n",
       "      <th>1</th>\n",
       "      <td>10</td>\n",
       "      <td>0</td>\n",
       "      <td>5</td>\n",
       "      <td>4</td>\n",
       "      <td>8</td>\n",
       "      <td>21520</td>\n",
       "      <td>18</td>\n",
       "      <td>160</td>\n",
       "      <td>3</td>\n",
       "      <td>1</td>\n",
       "    </tr>\n",
       "    <tr>\n",
       "      <th>2</th>\n",
       "      <td>4</td>\n",
       "      <td>0</td>\n",
       "      <td>5</td>\n",
       "      <td>0</td>\n",
       "      <td>8</td>\n",
       "      <td>26890</td>\n",
       "      <td>5</td>\n",
       "      <td>435</td>\n",
       "      <td>3</td>\n",
       "      <td>1</td>\n",
       "    </tr>\n",
       "    <tr>\n",
       "      <th>3</th>\n",
       "      <td>1</td>\n",
       "      <td>0</td>\n",
       "      <td>5</td>\n",
       "      <td>0</td>\n",
       "      <td>8</td>\n",
       "      <td>23677</td>\n",
       "      <td>5</td>\n",
       "      <td>330</td>\n",
       "      <td>3</td>\n",
       "      <td>1</td>\n",
       "    </tr>\n",
       "    <tr>\n",
       "      <th>4</th>\n",
       "      <td>3</td>\n",
       "      <td>0</td>\n",
       "      <td>5</td>\n",
       "      <td>4</td>\n",
       "      <td>8</td>\n",
       "      <td>11934</td>\n",
       "      <td>18</td>\n",
       "      <td>170</td>\n",
       "      <td>3</td>\n",
       "      <td>1</td>\n",
       "    </tr>\n",
       "  </tbody>\n",
       "</table>\n",
       "</div>"
      ],
      "text/plain": [
       "   Name  From  To  Stops  Extra Services  Price  Encoded Route  Duration  \\\n",
       "0     1     0   5      1               8  17135              3      2345   \n",
       "1    10     0   5      4               8  21520             18       160   \n",
       "2     4     0   5      0               8  26890              5       435   \n",
       "3     1     0   5      0               8  23677              5       330   \n",
       "4     3     0   5      4               8  11934             18       170   \n",
       "\n",
       "   Month  Day  \n",
       "0      3    1  \n",
       "1      3    1  \n",
       "2      3    1  \n",
       "3      3    1  \n",
       "4      3    1  "
      ]
     },
     "execution_count": 5,
     "metadata": {},
     "output_type": "execute_result"
    }
   ],
   "source": [
    "# dropping Unnamed Column\n",
    "\n",
    "df.rename({\"Unnamed: 0\":\"False\"}, axis=1, inplace=True)\n",
    "df.drop([\"False\"], axis=1, inplace=True)\n",
    "\n",
    "df.head()"
   ]
  },
  {
   "cell_type": "code",
   "execution_count": 6,
   "metadata": {},
   "outputs": [
    {
     "data": {
      "text/html": [
       "<div>\n",
       "<style scoped>\n",
       "    .dataframe tbody tr th:only-of-type {\n",
       "        vertical-align: middle;\n",
       "    }\n",
       "\n",
       "    .dataframe tbody tr th {\n",
       "        vertical-align: top;\n",
       "    }\n",
       "\n",
       "    .dataframe thead th {\n",
       "        text-align: right;\n",
       "    }\n",
       "</style>\n",
       "<table border=\"1\" class=\"dataframe\">\n",
       "  <thead>\n",
       "    <tr style=\"text-align: right;\">\n",
       "      <th></th>\n",
       "      <th>Name</th>\n",
       "      <th>From</th>\n",
       "      <th>To</th>\n",
       "      <th>Stops</th>\n",
       "      <th>Extra Services</th>\n",
       "      <th>Encoded Route</th>\n",
       "      <th>Duration</th>\n",
       "      <th>Month</th>\n",
       "      <th>Day</th>\n",
       "    </tr>\n",
       "  </thead>\n",
       "  <tbody>\n",
       "    <tr>\n",
       "      <th>0</th>\n",
       "      <td>1</td>\n",
       "      <td>0</td>\n",
       "      <td>5</td>\n",
       "      <td>1</td>\n",
       "      <td>8</td>\n",
       "      <td>3</td>\n",
       "      <td>2345</td>\n",
       "      <td>3</td>\n",
       "      <td>1</td>\n",
       "    </tr>\n",
       "    <tr>\n",
       "      <th>1</th>\n",
       "      <td>10</td>\n",
       "      <td>0</td>\n",
       "      <td>5</td>\n",
       "      <td>4</td>\n",
       "      <td>8</td>\n",
       "      <td>18</td>\n",
       "      <td>160</td>\n",
       "      <td>3</td>\n",
       "      <td>1</td>\n",
       "    </tr>\n",
       "    <tr>\n",
       "      <th>2</th>\n",
       "      <td>4</td>\n",
       "      <td>0</td>\n",
       "      <td>5</td>\n",
       "      <td>0</td>\n",
       "      <td>8</td>\n",
       "      <td>5</td>\n",
       "      <td>435</td>\n",
       "      <td>3</td>\n",
       "      <td>1</td>\n",
       "    </tr>\n",
       "    <tr>\n",
       "      <th>3</th>\n",
       "      <td>1</td>\n",
       "      <td>0</td>\n",
       "      <td>5</td>\n",
       "      <td>0</td>\n",
       "      <td>8</td>\n",
       "      <td>5</td>\n",
       "      <td>330</td>\n",
       "      <td>3</td>\n",
       "      <td>1</td>\n",
       "    </tr>\n",
       "    <tr>\n",
       "      <th>4</th>\n",
       "      <td>3</td>\n",
       "      <td>0</td>\n",
       "      <td>5</td>\n",
       "      <td>4</td>\n",
       "      <td>8</td>\n",
       "      <td>18</td>\n",
       "      <td>170</td>\n",
       "      <td>3</td>\n",
       "      <td>1</td>\n",
       "    </tr>\n",
       "  </tbody>\n",
       "</table>\n",
       "</div>"
      ],
      "text/plain": [
       "   Name  From  To  Stops  Extra Services  Encoded Route  Duration  Month  Day\n",
       "0     1     0   5      1               8              3      2345      3    1\n",
       "1    10     0   5      4               8             18       160      3    1\n",
       "2     4     0   5      0               8              5       435      3    1\n",
       "3     1     0   5      0               8              5       330      3    1\n",
       "4     3     0   5      4               8             18       170      3    1"
      ]
     },
     "execution_count": 6,
     "metadata": {},
     "output_type": "execute_result"
    }
   ],
   "source": [
    "# data=data.append({\"Name\":3,\"From\":0,\"To\":5,\"Time of Flight\":170,\"Stops\":4,\"Day\":24,\"Month\":3,\"Route_1\":0,\"Route_2\":13,\"Route_3\":29,\"Route_4\":13,\"Route_5\":5},ignore_index=True)\n",
    "data=df.drop(['Price'],1)\n",
    "\n",
    "data.head()"
   ]
  },
  {
   "cell_type": "code",
   "execution_count": 7,
   "metadata": {},
   "outputs": [],
   "source": [
    "X = np.array(df.drop(['Price'],1))"
   ]
  },
  {
   "cell_type": "code",
   "execution_count": 31,
   "metadata": {},
   "outputs": [
    {
     "data": {
      "text/plain": [
       "array([   1,    0,    5,    1,    8,    3, 2345,    3,    1], dtype=int64)"
      ]
     },
     "execution_count": 31,
     "metadata": {},
     "output_type": "execute_result"
    }
   ],
   "source": [
    "X[0]"
   ]
  },
  {
   "cell_type": "code",
   "execution_count": 32,
   "metadata": {},
   "outputs": [
    {
     "data": {
      "text/html": [
       "<div>\n",
       "<style scoped>\n",
       "    .dataframe tbody tr th:only-of-type {\n",
       "        vertical-align: middle;\n",
       "    }\n",
       "\n",
       "    .dataframe tbody tr th {\n",
       "        vertical-align: top;\n",
       "    }\n",
       "\n",
       "    .dataframe thead th {\n",
       "        text-align: right;\n",
       "    }\n",
       "</style>\n",
       "<table border=\"1\" class=\"dataframe\">\n",
       "  <thead>\n",
       "    <tr style=\"text-align: right;\">\n",
       "      <th></th>\n",
       "      <th>Name</th>\n",
       "      <th>From</th>\n",
       "      <th>To</th>\n",
       "      <th>Stops</th>\n",
       "      <th>Extra Services</th>\n",
       "      <th>Encoded Route</th>\n",
       "      <th>Duration</th>\n",
       "      <th>Month</th>\n",
       "      <th>Day</th>\n",
       "    </tr>\n",
       "  </thead>\n",
       "  <tbody>\n",
       "    <tr>\n",
       "      <th>0</th>\n",
       "      <td>1</td>\n",
       "      <td>0</td>\n",
       "      <td>5</td>\n",
       "      <td>1</td>\n",
       "      <td>8</td>\n",
       "      <td>3</td>\n",
       "      <td>2345</td>\n",
       "      <td>3</td>\n",
       "      <td>1</td>\n",
       "    </tr>\n",
       "    <tr>\n",
       "      <th>1</th>\n",
       "      <td>10</td>\n",
       "      <td>0</td>\n",
       "      <td>5</td>\n",
       "      <td>4</td>\n",
       "      <td>8</td>\n",
       "      <td>18</td>\n",
       "      <td>160</td>\n",
       "      <td>3</td>\n",
       "      <td>1</td>\n",
       "    </tr>\n",
       "  </tbody>\n",
       "</table>\n",
       "</div>"
      ],
      "text/plain": [
       "   Name  From  To  Stops  Extra Services  Encoded Route  Duration  Month  Day\n",
       "0     1     0   5      1               8              3      2345      3    1\n",
       "1    10     0   5      4               8             18       160      3    1"
      ]
     },
     "execution_count": 32,
     "metadata": {},
     "output_type": "execute_result"
    }
   ],
   "source": [
    "data.head(2)"
   ]
  },
  {
   "cell_type": "code",
   "execution_count": 33,
   "metadata": {},
   "outputs": [],
   "source": [
    "data = np.array(data)"
   ]
  },
  {
   "cell_type": "code",
   "execution_count": 34,
   "metadata": {},
   "outputs": [
    {
     "data": {
      "text/plain": [
       "array([[   1,    0,    5, ..., 2345,    3,    1],\n",
       "       [  10,    0,    5, ...,  160,    3,    1],\n",
       "       [   4,    0,    5, ...,  435,    3,    1],\n",
       "       ...,\n",
       "       [  10,    0,    2, ...,  170,    6,    9],\n",
       "       [   6,    2,    1, ...,  660,    6,    9],\n",
       "       [   1,    2,    1, ..., 1420,    6,    9]], dtype=int64)"
      ]
     },
     "execution_count": 34,
     "metadata": {},
     "output_type": "execute_result"
    }
   ],
   "source": [
    "data"
   ]
  },
  {
   "cell_type": "code",
   "execution_count": 35,
   "metadata": {},
   "outputs": [],
   "source": [
    "y = df['Price'].values"
   ]
  },
  {
   "cell_type": "code",
   "execution_count": 36,
   "metadata": {},
   "outputs": [
    {
     "data": {
      "text/plain": [
       "array([17135, 21520, 26890, ...,  4668,  7408, 11185], dtype=int64)"
      ]
     },
     "execution_count": 36,
     "metadata": {},
     "output_type": "execute_result"
    }
   ],
   "source": [
    "y"
   ]
  },
  {
   "cell_type": "code",
   "execution_count": 8,
   "metadata": {},
   "outputs": [],
   "source": [
    "# Dependent Variables\n",
    "\n",
    "X = df[['Name', 'From', 'To', 'Stops', 'Extra Services', 'Encoded Route', 'Duration', 'Month', 'Day']].values\n",
    "\n",
    "# Independent Variable\n",
    "\n",
    "Y = df['Price'].values"
   ]
  },
  {
   "cell_type": "code",
   "execution_count": 9,
   "metadata": {},
   "outputs": [
    {
     "name": "stdout",
     "output_type": "stream",
     "text": [
      "MinMaxScaler(copy=True, feature_range=(0, 1000))\n",
      "MinMaxScaler(copy=True, feature_range=(0, 1000))\n"
     ]
    }
   ],
   "source": [
    "scaler = MinMaxScaler(feature_range=(0,1000))\n",
    "print(scaler.fit(X))\n",
    "print(scaler.fit(data))"
   ]
  },
  {
   "cell_type": "code",
   "execution_count": 10,
   "metadata": {},
   "outputs": [],
   "source": [
    "X=scaler.transform(X)\n",
    "data=scaler.transform(data)"
   ]
  },
  {
   "cell_type": "code",
   "execution_count": 40,
   "metadata": {},
   "outputs": [
    {
     "data": {
      "text/plain": [
       "array([[  90.90909091,    0.        , 1000.        , ...,  819.61471103,\n",
       "           0.        ,    0.        ],\n",
       "       [ 909.09090909,    0.        , 1000.        , ...,   54.29071804,\n",
       "           0.        ,    0.        ],\n",
       "       [ 363.63636364,    0.        , 1000.        , ...,  150.61295972,\n",
       "           0.        ,    0.        ],\n",
       "       ...,\n",
       "       [ 909.09090909,    0.        ,  400.        , ...,   57.79334501,\n",
       "        1000.        ,  307.69230769],\n",
       "       [ 545.45454545,  500.        ,  200.        , ...,  229.42206655,\n",
       "        1000.        ,  307.69230769],\n",
       "       [  90.90909091,  500.        ,  200.        , ...,  495.62171629,\n",
       "        1000.        ,  307.69230769]])"
      ]
     },
     "execution_count": 40,
     "metadata": {},
     "output_type": "execute_result"
    }
   ],
   "source": [
    "X"
   ]
  },
  {
   "cell_type": "code",
   "execution_count": 41,
   "metadata": {},
   "outputs": [
    {
     "data": {
      "text/plain": [
       "array([[  90.90909091,    0.        , 1000.        , ...,  819.61471103,\n",
       "           0.        ,    0.        ],\n",
       "       [ 909.09090909,    0.        , 1000.        , ...,   54.29071804,\n",
       "           0.        ,    0.        ],\n",
       "       [ 363.63636364,    0.        , 1000.        , ...,  150.61295972,\n",
       "           0.        ,    0.        ],\n",
       "       ...,\n",
       "       [ 909.09090909,    0.        ,  400.        , ...,   57.79334501,\n",
       "        1000.        ,  307.69230769],\n",
       "       [ 545.45454545,  500.        ,  200.        , ...,  229.42206655,\n",
       "        1000.        ,  307.69230769],\n",
       "       [  90.90909091,  500.        ,  200.        , ...,  495.62171629,\n",
       "        1000.        ,  307.69230769]])"
      ]
     },
     "execution_count": 41,
     "metadata": {},
     "output_type": "execute_result"
    }
   ],
   "source": [
    "data"
   ]
  },
  {
   "cell_type": "code",
   "execution_count": 42,
   "metadata": {},
   "outputs": [
    {
     "data": {
      "text/plain": [
       "array([ 272.72727273,    0.        , 1000.        , 1000.        ,\n",
       "        888.88888889,  141.73228346,   57.79334501,    0.        ,\n",
       "          0.        ])"
      ]
     },
     "execution_count": 42,
     "metadata": {},
     "output_type": "execute_result"
    }
   ],
   "source": [
    "data[4]"
   ]
  },
  {
   "cell_type": "code",
   "execution_count": 16,
   "metadata": {},
   "outputs": [],
   "source": [
    "X_train, X_test, y_train, y_test = train_test_split(X, Y, test_size=0.3,random_state=123)"
   ]
  },
  {
   "cell_type": "code",
   "execution_count": 44,
   "metadata": {},
   "outputs": [
    {
     "data": {
      "text/plain": [
       "(7477, 9)"
      ]
     },
     "execution_count": 44,
     "metadata": {},
     "output_type": "execute_result"
    }
   ],
   "source": [
    "X_train.shape"
   ]
  },
  {
   "cell_type": "code",
   "execution_count": 45,
   "metadata": {},
   "outputs": [
    {
     "data": {
      "text/plain": [
       "(3205, 9)"
      ]
     },
     "execution_count": 45,
     "metadata": {},
     "output_type": "execute_result"
    }
   ],
   "source": [
    "X_test.shape"
   ]
  },
  {
   "cell_type": "code",
   "execution_count": 46,
   "metadata": {},
   "outputs": [
    {
     "data": {
      "text/plain": [
       "(10682, 10)"
      ]
     },
     "execution_count": 46,
     "metadata": {},
     "output_type": "execute_result"
    }
   ],
   "source": [
    "df.shape"
   ]
  },
  {
   "cell_type": "code",
   "execution_count": 47,
   "metadata": {},
   "outputs": [
    {
     "data": {
      "text/plain": [
       "(7477,)"
      ]
     },
     "execution_count": 47,
     "metadata": {},
     "output_type": "execute_result"
    }
   ],
   "source": [
    "y_train.shape"
   ]
  },
  {
   "cell_type": "code",
   "execution_count": 48,
   "metadata": {},
   "outputs": [
    {
     "data": {
      "text/plain": [
       "(3205,)"
      ]
     },
     "execution_count": 48,
     "metadata": {},
     "output_type": "execute_result"
    }
   ],
   "source": [
    "y_test.shape"
   ]
  },
  {
   "cell_type": "markdown",
   "metadata": {},
   "source": [
    "# Extreme Gradient Boosting"
   ]
  },
  {
   "cell_type": "code",
   "execution_count": 11,
   "metadata": {},
   "outputs": [],
   "source": [
    "xgb = xgboost.XGBRegressor(n_estimators=325, learning_rate=0.4, gamma=0, subsample=0.89,\n",
    "                           colsample_bytree=1, max_depth=6)"
   ]
  },
  {
   "cell_type": "code",
   "execution_count": 13,
   "metadata": {},
   "outputs": [
    {
     "name": "stdout",
     "output_type": "stream",
     "text": [
      "[10:20:22] WARNING: C:/Jenkins/workspace/xgboost-win64_release_0.90/src/objective/regression_obj.cu:152: reg:linear is now deprecated in favor of reg:squarederror.\n"
     ]
    },
    {
     "data": {
      "text/plain": [
       "XGBRegressor(base_score=0.5, booster='gbtree', colsample_bylevel=1,\n",
       "             colsample_bynode=1, colsample_bytree=1, gamma=0,\n",
       "             importance_type='gain', learning_rate=0.4, max_delta_step=0,\n",
       "             max_depth=6, min_child_weight=1, missing=None, n_estimators=325,\n",
       "             n_jobs=1, nthread=None, objective='reg:linear', random_state=0,\n",
       "             reg_alpha=0, reg_lambda=1, scale_pos_weight=1, seed=None,\n",
       "             silent=None, subsample=0.89, verbosity=1)"
      ]
     },
     "execution_count": 13,
     "metadata": {},
     "output_type": "execute_result"
    }
   ],
   "source": [
    "xgb.fit(X,Y)\n",
    "\n",
    "# xgb.fit(X_train, y_train)"
   ]
  },
  {
   "cell_type": "code",
   "execution_count": 17,
   "metadata": {},
   "outputs": [],
   "source": [
    "predictions = xgb.predict(X_test)"
   ]
  },
  {
   "cell_type": "code",
   "execution_count": 20,
   "metadata": {},
   "outputs": [
    {
     "name": "stdout",
     "output_type": "stream",
     "text": [
      "    Original     Predicted\n",
      "0       7229   6878.621094\n",
      "1       6296   6120.173340\n",
      "2      12537  10258.059570\n",
      "3       6442   6516.123535\n",
      "4      10703  10567.632812\n",
      "5       9345   9049.190430\n",
      "6      16704  15602.381836\n",
      "7       6416   6232.521973\n",
      "8      19907  20009.941406\n",
      "9      14762  14478.520508\n",
      "10      7191   7223.045898\n",
      "11     15603  15944.922852\n",
      "12      6953   6814.843262\n",
      "13      5228   5795.935547\n",
      "14      1965   1790.552612\n",
      "15     15129  15776.637695\n",
      "16      8586   9054.422852\n",
      "17      6442   6167.852051\n",
      "18     10262  10206.785156\n",
      "19      3419   4119.992676\n"
     ]
    }
   ],
   "source": [
    "test_dataframe = pd.DataFrame({'Original': y_test, 'Predicted': predictions})\n",
    "print(test_dataframe.head(20))"
   ]
  },
  {
   "cell_type": "code",
   "execution_count": 19,
   "metadata": {},
   "outputs": [
    {
     "name": "stdout",
     "output_type": "stream",
     "text": [
      "97.34576088168177\n"
     ]
    }
   ],
   "source": [
    "accuracy = xgb.score(X_test,y_test)\n",
    "\n",
    "print(accuracy*100)"
   ]
  },
  {
   "cell_type": "code",
   "execution_count": 54,
   "metadata": {},
   "outputs": [
    {
     "data": {
      "text/html": [
       "<div>\n",
       "<style scoped>\n",
       "    .dataframe tbody tr th:only-of-type {\n",
       "        vertical-align: middle;\n",
       "    }\n",
       "\n",
       "    .dataframe tbody tr th {\n",
       "        vertical-align: top;\n",
       "    }\n",
       "\n",
       "    .dataframe thead th {\n",
       "        text-align: right;\n",
       "    }\n",
       "</style>\n",
       "<table border=\"1\" class=\"dataframe\">\n",
       "  <thead>\n",
       "    <tr style=\"text-align: right;\">\n",
       "      <th></th>\n",
       "      <th>Name</th>\n",
       "      <th>From</th>\n",
       "      <th>To</th>\n",
       "      <th>Stops</th>\n",
       "      <th>Extra Services</th>\n",
       "      <th>Price</th>\n",
       "      <th>Encoded Route</th>\n",
       "      <th>Duration</th>\n",
       "      <th>Month</th>\n",
       "      <th>Day</th>\n",
       "    </tr>\n",
       "  </thead>\n",
       "  <tbody>\n",
       "    <tr>\n",
       "      <th>10430</th>\n",
       "      <td>8</td>\n",
       "      <td>3</td>\n",
       "      <td>0</td>\n",
       "      <td>4</td>\n",
       "      <td>7</td>\n",
       "      <td>3841</td>\n",
       "      <td>64</td>\n",
       "      <td>150</td>\n",
       "      <td>6</td>\n",
       "      <td>9</td>\n",
       "    </tr>\n",
       "    <tr>\n",
       "      <th>10431</th>\n",
       "      <td>1</td>\n",
       "      <td>3</td>\n",
       "      <td>0</td>\n",
       "      <td>2</td>\n",
       "      <td>8</td>\n",
       "      <td>14960</td>\n",
       "      <td>79</td>\n",
       "      <td>805</td>\n",
       "      <td>6</td>\n",
       "      <td>9</td>\n",
       "    </tr>\n",
       "    <tr>\n",
       "      <th>10432</th>\n",
       "      <td>1</td>\n",
       "      <td>2</td>\n",
       "      <td>1</td>\n",
       "      <td>0</td>\n",
       "      <td>8</td>\n",
       "      <td>7690</td>\n",
       "      <td>121</td>\n",
       "      <td>1640</td>\n",
       "      <td>6</td>\n",
       "      <td>9</td>\n",
       "    </tr>\n",
       "    <tr>\n",
       "      <th>10433</th>\n",
       "      <td>1</td>\n",
       "      <td>2</td>\n",
       "      <td>1</td>\n",
       "      <td>0</td>\n",
       "      <td>8</td>\n",
       "      <td>6587</td>\n",
       "      <td>125</td>\n",
       "      <td>1535</td>\n",
       "      <td>6</td>\n",
       "      <td>9</td>\n",
       "    </tr>\n",
       "    <tr>\n",
       "      <th>10434</th>\n",
       "      <td>4</td>\n",
       "      <td>0</td>\n",
       "      <td>2</td>\n",
       "      <td>4</td>\n",
       "      <td>5</td>\n",
       "      <td>7229</td>\n",
       "      <td>18</td>\n",
       "      <td>180</td>\n",
       "      <td>6</td>\n",
       "      <td>9</td>\n",
       "    </tr>\n",
       "    <tr>\n",
       "      <th>10435</th>\n",
       "      <td>2</td>\n",
       "      <td>2</td>\n",
       "      <td>1</td>\n",
       "      <td>0</td>\n",
       "      <td>8</td>\n",
       "      <td>5281</td>\n",
       "      <td>104</td>\n",
       "      <td>540</td>\n",
       "      <td>6</td>\n",
       "      <td>9</td>\n",
       "    </tr>\n",
       "    <tr>\n",
       "      <th>10436</th>\n",
       "      <td>4</td>\n",
       "      <td>3</td>\n",
       "      <td>0</td>\n",
       "      <td>0</td>\n",
       "      <td>8</td>\n",
       "      <td>14939</td>\n",
       "      <td>66</td>\n",
       "      <td>735</td>\n",
       "      <td>6</td>\n",
       "      <td>9</td>\n",
       "    </tr>\n",
       "    <tr>\n",
       "      <th>10437</th>\n",
       "      <td>4</td>\n",
       "      <td>3</td>\n",
       "      <td>0</td>\n",
       "      <td>0</td>\n",
       "      <td>5</td>\n",
       "      <td>11841</td>\n",
       "      <td>66</td>\n",
       "      <td>800</td>\n",
       "      <td>6</td>\n",
       "      <td>9</td>\n",
       "    </tr>\n",
       "    <tr>\n",
       "      <th>10438</th>\n",
       "      <td>4</td>\n",
       "      <td>3</td>\n",
       "      <td>0</td>\n",
       "      <td>0</td>\n",
       "      <td>8</td>\n",
       "      <td>14151</td>\n",
       "      <td>73</td>\n",
       "      <td>1005</td>\n",
       "      <td>6</td>\n",
       "      <td>9</td>\n",
       "    </tr>\n",
       "    <tr>\n",
       "      <th>10439</th>\n",
       "      <td>3</td>\n",
       "      <td>0</td>\n",
       "      <td>2</td>\n",
       "      <td>4</td>\n",
       "      <td>8</td>\n",
       "      <td>4823</td>\n",
       "      <td>18</td>\n",
       "      <td>170</td>\n",
       "      <td>6</td>\n",
       "      <td>9</td>\n",
       "    </tr>\n",
       "  </tbody>\n",
       "</table>\n",
       "</div>"
      ],
      "text/plain": [
       "       Name  From  To  Stops  Extra Services  Price  Encoded Route  Duration  \\\n",
       "10430     8     3   0      4               7   3841             64       150   \n",
       "10431     1     3   0      2               8  14960             79       805   \n",
       "10432     1     2   1      0               8   7690            121      1640   \n",
       "10433     1     2   1      0               8   6587            125      1535   \n",
       "10434     4     0   2      4               5   7229             18       180   \n",
       "10435     2     2   1      0               8   5281            104       540   \n",
       "10436     4     3   0      0               8  14939             66       735   \n",
       "10437     4     3   0      0               5  11841             66       800   \n",
       "10438     4     3   0      0               8  14151             73      1005   \n",
       "10439     3     0   2      4               8   4823             18       170   \n",
       "\n",
       "       Month  Day  \n",
       "10430      6    9  \n",
       "10431      6    9  \n",
       "10432      6    9  \n",
       "10433      6    9  \n",
       "10434      6    9  \n",
       "10435      6    9  \n",
       "10436      6    9  \n",
       "10437      6    9  \n",
       "10438      6    9  \n",
       "10439      6    9  "
      ]
     },
     "execution_count": 54,
     "metadata": {},
     "output_type": "execute_result"
    }
   ],
   "source": [
    "df[10430:10440]"
   ]
  },
  {
   "cell_type": "code",
   "execution_count": null,
   "metadata": {},
   "outputs": [],
   "source": []
  },
  {
   "cell_type": "code",
   "execution_count": null,
   "metadata": {},
   "outputs": [],
   "source": []
  }
 ],
 "metadata": {
  "kernelspec": {
   "display_name": "Python 3",
   "language": "python",
   "name": "python3"
  },
  "language_info": {
   "codemirror_mode": {
    "name": "ipython",
    "version": 3
   },
   "file_extension": ".py",
   "mimetype": "text/x-python",
   "name": "python",
   "nbconvert_exporter": "python",
   "pygments_lexer": "ipython3",
   "version": "3.7.3"
  }
 },
 "nbformat": 4,
 "nbformat_minor": 2
}
